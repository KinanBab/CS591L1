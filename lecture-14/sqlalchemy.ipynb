{
 "cells": [
  {
   "cell_type": "markdown",
   "metadata": {},
   "source": [
    "# SQLAlchemy\n",
    "\n",
    "## Installation\n",
    "\n",
    "```bash\n",
    "pip install sqlalchemy\n",
    "# make sure you have a database system installed, e.g. sqlite3 using apt-get or brew etc\n",
    "```"
   ]
  },
  {
   "cell_type": "code",
   "execution_count": 1,
   "metadata": {},
   "outputs": [
    {
     "name": "stdout",
     "output_type": "stream",
     "text": [
      "1.3.11\n"
     ]
    }
   ],
   "source": [
    "import sqlalchemy\n",
    "from sqlalchemy import create_engine\n",
    "\n",
    "print(sqlalchemy.__version__)\n",
    "engine = create_engine('sqlite:///:memory:', echo=True) # will print all issued sql statements to the screen"
   ]
  },
  {
   "cell_type": "markdown",
   "metadata": {},
   "source": [
    "# Schema"
   ]
  },
  {
   "cell_type": "markdown",
   "metadata": {},
   "source": [
    "### Declarative Base"
   ]
  },
  {
   "cell_type": "code",
   "execution_count": 2,
   "metadata": {},
   "outputs": [],
   "source": [
    "from sqlalchemy.ext.declarative import declarative_base\n",
    "Base = declarative_base()"
   ]
  },
  {
   "cell_type": "markdown",
   "metadata": {},
   "source": [
    "### Defining tables"
   ]
  },
  {
   "cell_type": "code",
   "execution_count": 3,
   "metadata": {},
   "outputs": [],
   "source": [
    "from sqlalchemy import Column, Integer, String, ForeignKey\n",
    "from sqlalchemy.types import Text, Boolean\n",
    "\n",
    "class Author(Base):\n",
    "    __tablename__ = 'authors' # the actual name in the DB\n",
    "\n",
    "    id = Column(Integer, primary_key=True)\n",
    "    first_name = Column(String, nullable=False)\n",
    "    last_name = Column(String, nullable=False)\n",
    "\n",
    "    def get_name(self):\n",
    "        return \"{} {}\".format(self.first_name, self.last_name)\n",
    "\n",
    "    def __repr__(self):\n",
    "        return \"<Author(id={}, name='{}'>\".format(self.id, self.get_name())"
   ]
  },
  {
   "cell_type": "code",
   "execution_count": 4,
   "metadata": {},
   "outputs": [],
   "source": [
    "from sqlalchemy.orm import relationship\n",
    "\n",
    "class Book(Base):\n",
    "    __tablename__ = 'books'\n",
    "\n",
    "    id = Column(Integer, primary_key=True)\n",
    "    title = Column(String(75), nullable=False)\n",
    "    synopsis = Column(Text, nullable=True)\n",
    "\n",
    "    author_id = Column(Integer, ForeignKey(Author.id), nullable=False)\n",
    "    author = relationship(\"Author\", backref=\"books\")\n",
    "\n",
    "    def __repr__(self):\n",
    "        return \"<Book(id={}, title='{}', author='{}', has_synopsis={})>\".format(\n",
    "            self.id, self.title, self.author.get_name(), self.synopsis is not None)"
   ]
  },
  {
   "cell_type": "code",
   "execution_count": 5,
   "metadata": {},
   "outputs": [],
   "source": [
    "from sqlalchemy import UniqueConstraint\n",
    "\n",
    "class Country(Base):\n",
    "    __tablename__ = 'country'\n",
    "\n",
    "    id = Column(Integer, primary_key=True)\n",
    "    name = Column(String, nullable=False, unique=True)\n",
    "    code = Column(String(3), nullable=False, unique=True)\n",
    "    \n",
    "    authors = relationship(\"Author\",\n",
    "                           secondary=\"country_author\",\n",
    "                           backref=\"countries\")\n",
    "\n",
    "    def __repr__(self):\n",
    "        return \"<Country(id={}, name={}, code={})>\".format(self.id, self.name, self.code)\n",
    "\n",
    "class CountryAuthor(Base):\n",
    "    __tablename__ = 'country_author'\n",
    "    \n",
    "    author_id = Column(Integer, ForeignKey(Author.id), primary_key=True)\n",
    "    country_id = Column(Integer, ForeignKey(Country.id), primary_key=True)\n",
    "    native = Column(Boolean, nullable=False, default=True)\n",
    "    \n",
    "    #author = relationship(\"Author\")\n",
    "    #country = relationship(\"Country\")\n",
    "    \n",
    "    __table_args__ = (\n",
    "        UniqueConstraint(\"author_id\", \"native\"),\n",
    "    )"
   ]
  },
  {
   "cell_type": "markdown",
   "metadata": {},
   "source": [
    "### Creating the Tables"
   ]
  },
  {
   "cell_type": "code",
   "execution_count": 6,
   "metadata": {},
   "outputs": [
    {
     "name": "stdout",
     "output_type": "stream",
     "text": [
      "2019-11-13 11:33:39,549 INFO sqlalchemy.engine.base.Engine SELECT CAST('test plain returns' AS VARCHAR(60)) AS anon_1\n",
      "2019-11-13 11:33:39,552 INFO sqlalchemy.engine.base.Engine ()\n",
      "2019-11-13 11:33:39,558 INFO sqlalchemy.engine.base.Engine SELECT CAST('test unicode returns' AS VARCHAR(60)) AS anon_1\n",
      "2019-11-13 11:33:39,559 INFO sqlalchemy.engine.base.Engine ()\n",
      "2019-11-13 11:33:39,564 INFO sqlalchemy.engine.base.Engine PRAGMA main.table_info(\"books\")\n",
      "2019-11-13 11:33:39,566 INFO sqlalchemy.engine.base.Engine ()\n",
      "2019-11-13 11:33:39,572 INFO sqlalchemy.engine.base.Engine PRAGMA temp.table_info(\"books\")\n",
      "2019-11-13 11:33:39,575 INFO sqlalchemy.engine.base.Engine ()\n",
      "2019-11-13 11:33:39,580 INFO sqlalchemy.engine.base.Engine PRAGMA main.table_info(\"authors\")\n",
      "2019-11-13 11:33:39,583 INFO sqlalchemy.engine.base.Engine ()\n",
      "2019-11-13 11:33:39,586 INFO sqlalchemy.engine.base.Engine PRAGMA temp.table_info(\"authors\")\n",
      "2019-11-13 11:33:39,587 INFO sqlalchemy.engine.base.Engine ()\n",
      "2019-11-13 11:33:39,589 INFO sqlalchemy.engine.base.Engine PRAGMA main.table_info(\"country_author\")\n",
      "2019-11-13 11:33:39,590 INFO sqlalchemy.engine.base.Engine ()\n",
      "2019-11-13 11:33:39,591 INFO sqlalchemy.engine.base.Engine PRAGMA temp.table_info(\"country_author\")\n",
      "2019-11-13 11:33:39,592 INFO sqlalchemy.engine.base.Engine ()\n",
      "2019-11-13 11:33:39,594 INFO sqlalchemy.engine.base.Engine PRAGMA main.table_info(\"country\")\n",
      "2019-11-13 11:33:39,594 INFO sqlalchemy.engine.base.Engine ()\n",
      "2019-11-13 11:33:39,595 INFO sqlalchemy.engine.base.Engine PRAGMA temp.table_info(\"country\")\n",
      "2019-11-13 11:33:39,596 INFO sqlalchemy.engine.base.Engine ()\n",
      "2019-11-13 11:33:39,599 INFO sqlalchemy.engine.base.Engine \n",
      "CREATE TABLE authors (\n",
      "\tid INTEGER NOT NULL, \n",
      "\tfirst_name VARCHAR NOT NULL, \n",
      "\tlast_name VARCHAR NOT NULL, \n",
      "\tPRIMARY KEY (id)\n",
      ")\n",
      "\n",
      "\n",
      "2019-11-13 11:33:39,602 INFO sqlalchemy.engine.base.Engine ()\n",
      "2019-11-13 11:33:39,605 INFO sqlalchemy.engine.base.Engine COMMIT\n",
      "2019-11-13 11:33:39,607 INFO sqlalchemy.engine.base.Engine \n",
      "CREATE TABLE country (\n",
      "\tid INTEGER NOT NULL, \n",
      "\tname VARCHAR NOT NULL, \n",
      "\tcode VARCHAR(3) NOT NULL, \n",
      "\tPRIMARY KEY (id), \n",
      "\tUNIQUE (name), \n",
      "\tUNIQUE (code)\n",
      ")\n",
      "\n",
      "\n",
      "2019-11-13 11:33:39,609 INFO sqlalchemy.engine.base.Engine ()\n",
      "2019-11-13 11:33:39,611 INFO sqlalchemy.engine.base.Engine COMMIT\n",
      "2019-11-13 11:33:39,613 INFO sqlalchemy.engine.base.Engine \n",
      "CREATE TABLE books (\n",
      "\tid INTEGER NOT NULL, \n",
      "\ttitle VARCHAR(75) NOT NULL, \n",
      "\tsynopsis TEXT, \n",
      "\tauthor_id INTEGER NOT NULL, \n",
      "\tPRIMARY KEY (id), \n",
      "\tFOREIGN KEY(author_id) REFERENCES authors (id)\n",
      ")\n",
      "\n",
      "\n",
      "2019-11-13 11:33:39,614 INFO sqlalchemy.engine.base.Engine ()\n",
      "2019-11-13 11:33:39,616 INFO sqlalchemy.engine.base.Engine COMMIT\n",
      "2019-11-13 11:33:39,618 INFO sqlalchemy.engine.base.Engine \n",
      "CREATE TABLE country_author (\n",
      "\tauthor_id INTEGER NOT NULL, \n",
      "\tcountry_id INTEGER NOT NULL, \n",
      "\tnative BOOLEAN NOT NULL, \n",
      "\tPRIMARY KEY (author_id, country_id), \n",
      "\tUNIQUE (author_id, native), \n",
      "\tFOREIGN KEY(author_id) REFERENCES authors (id), \n",
      "\tFOREIGN KEY(country_id) REFERENCES country (id), \n",
      "\tCHECK (native IN (0, 1))\n",
      ")\n",
      "\n",
      "\n",
      "2019-11-13 11:33:39,619 INFO sqlalchemy.engine.base.Engine ()\n",
      "2019-11-13 11:33:39,621 INFO sqlalchemy.engine.base.Engine COMMIT\n"
     ]
    }
   ],
   "source": [
    "Base.metadata.create_all(engine)"
   ]
  },
  {
   "cell_type": "markdown",
   "metadata": {},
   "source": [
    "# Data Manipulation\n",
    "\n",
    "## Session"
   ]
  },
  {
   "cell_type": "code",
   "execution_count": 7,
   "metadata": {},
   "outputs": [],
   "source": [
    "from sqlalchemy.orm import sessionmaker\n",
    "SessionMaker = sessionmaker(bind=engine)\n",
    "# SessionMaker can now give us sessions"
   ]
  },
  {
   "cell_type": "markdown",
   "metadata": {},
   "source": [
    "## Inserting Elements"
   ]
  },
  {
   "cell_type": "code",
   "execution_count": 8,
   "metadata": {},
   "outputs": [
    {
     "data": {
      "text/plain": [
       "IdentitySet([<Country(id=None, name=United Kingdom, code=UK)>, <Author(id=None, name='J. K. Rowling'>])"
      ]
     },
     "execution_count": 8,
     "metadata": {},
     "output_type": "execute_result"
    }
   ],
   "source": [
    "session = SessionMaker()\n",
    "\n",
    "author = Author(first_name='J. K.', last_name='Rowling')\n",
    "session.add(author)\n",
    "\n",
    "country = Country(name='United Kingdom', code='UK')\n",
    "session.add(country)\n",
    "\n",
    "author.countries.append(country)\n",
    "#country.authors.append(author)\n",
    "\n",
    "session.new"
   ]
  },
  {
   "cell_type": "code",
   "execution_count": 9,
   "metadata": {},
   "outputs": [
    {
     "name": "stdout",
     "output_type": "stream",
     "text": [
      "2019-11-13 11:33:40,140 INFO sqlalchemy.engine.base.Engine BEGIN (implicit)\n",
      "2019-11-13 11:33:40,142 INFO sqlalchemy.engine.base.Engine INSERT INTO country (name, code) VALUES (?, ?)\n",
      "2019-11-13 11:33:40,143 INFO sqlalchemy.engine.base.Engine ('United Kingdom', 'UK')\n",
      "2019-11-13 11:33:40,145 INFO sqlalchemy.engine.base.Engine INSERT INTO authors (first_name, last_name) VALUES (?, ?)\n",
      "2019-11-13 11:33:40,146 INFO sqlalchemy.engine.base.Engine ('J. K.', 'Rowling')\n",
      "2019-11-13 11:33:40,148 INFO sqlalchemy.engine.base.Engine INSERT INTO country_author (author_id, country_id, native) VALUES (?, ?, ?)\n",
      "2019-11-13 11:33:40,148 INFO sqlalchemy.engine.base.Engine (1, 1, 1)\n",
      "2019-11-13 11:33:40,150 INFO sqlalchemy.engine.base.Engine COMMIT\n"
     ]
    }
   ],
   "source": [
    "session.commit()"
   ]
  },
  {
   "cell_type": "markdown",
   "metadata": {},
   "source": [
    "## Session -> Transactions"
   ]
  },
  {
   "cell_type": "code",
   "execution_count": 10,
   "metadata": {},
   "outputs": [
    {
     "name": "stdout",
     "output_type": "stream",
     "text": [
      "2019-11-13 11:33:40,222 INFO sqlalchemy.engine.base.Engine BEGIN (implicit)\n",
      "2019-11-13 11:33:40,223 INFO sqlalchemy.engine.base.Engine INSERT INTO authors (first_name, last_name) VALUES (?, ?)\n",
      "2019-11-13 11:33:40,223 INFO sqlalchemy.engine.base.Engine ('fail', 'failed')\n",
      "2019-11-13 11:33:40,225 INFO sqlalchemy.engine.base.Engine INSERT INTO country (name, code) VALUES (?, ?)\n",
      "2019-11-13 11:33:40,225 INFO sqlalchemy.engine.base.Engine ('failure', 'UK')\n",
      "2019-11-13 11:33:40,226 INFO sqlalchemy.engine.base.Engine ROLLBACK\n"
     ]
    },
    {
     "name": "stderr",
     "output_type": "stream",
     "text": [
      "Traceback (most recent call last):\n",
      "  File \"/home/bab/Documents/teaching/CS591L1/venv/lib/python3.5/site-packages/sqlalchemy/engine/base.py\", line 1246, in _execute_context\n",
      "    cursor, statement, parameters, context\n",
      "  File \"/home/bab/Documents/teaching/CS591L1/venv/lib/python3.5/site-packages/sqlalchemy/engine/default.py\", line 581, in do_execute\n",
      "    cursor.execute(statement, parameters)\n",
      "sqlite3.IntegrityError: UNIQUE constraint failed: country.code\n",
      "\n",
      "The above exception was the direct cause of the following exception:\n",
      "\n",
      "Traceback (most recent call last):\n",
      "  File \"<ipython-input-10-0c938d6cb6fe>\", line 10, in <module>\n",
      "    session.commit()\n",
      "  File \"/home/bab/Documents/teaching/CS591L1/venv/lib/python3.5/site-packages/sqlalchemy/orm/session.py\", line 1027, in commit\n",
      "    self.transaction.commit()\n",
      "  File \"/home/bab/Documents/teaching/CS591L1/venv/lib/python3.5/site-packages/sqlalchemy/orm/session.py\", line 494, in commit\n",
      "    self._prepare_impl()\n",
      "  File \"/home/bab/Documents/teaching/CS591L1/venv/lib/python3.5/site-packages/sqlalchemy/orm/session.py\", line 473, in _prepare_impl\n",
      "    self.session.flush()\n",
      "  File \"/home/bab/Documents/teaching/CS591L1/venv/lib/python3.5/site-packages/sqlalchemy/orm/session.py\", line 2470, in flush\n",
      "    self._flush(objects)\n",
      "  File \"/home/bab/Documents/teaching/CS591L1/venv/lib/python3.5/site-packages/sqlalchemy/orm/session.py\", line 2608, in _flush\n",
      "    transaction.rollback(_capture_exception=True)\n",
      "  File \"/home/bab/Documents/teaching/CS591L1/venv/lib/python3.5/site-packages/sqlalchemy/util/langhelpers.py\", line 68, in __exit__\n",
      "    compat.reraise(exc_type, exc_value, exc_tb)\n",
      "  File \"/home/bab/Documents/teaching/CS591L1/venv/lib/python3.5/site-packages/sqlalchemy/util/compat.py\", line 153, in reraise\n",
      "    raise value\n",
      "  File \"/home/bab/Documents/teaching/CS591L1/venv/lib/python3.5/site-packages/sqlalchemy/orm/session.py\", line 2568, in _flush\n",
      "    flush_context.execute()\n",
      "  File \"/home/bab/Documents/teaching/CS591L1/venv/lib/python3.5/site-packages/sqlalchemy/orm/unitofwork.py\", line 422, in execute\n",
      "    rec.execute(self)\n",
      "  File \"/home/bab/Documents/teaching/CS591L1/venv/lib/python3.5/site-packages/sqlalchemy/orm/unitofwork.py\", line 589, in execute\n",
      "    uow,\n",
      "  File \"/home/bab/Documents/teaching/CS591L1/venv/lib/python3.5/site-packages/sqlalchemy/orm/persistence.py\", line 245, in save_obj\n",
      "    insert,\n",
      "  File \"/home/bab/Documents/teaching/CS591L1/venv/lib/python3.5/site-packages/sqlalchemy/orm/persistence.py\", line 1137, in _emit_insert_statements\n",
      "    statement, params\n",
      "  File \"/home/bab/Documents/teaching/CS591L1/venv/lib/python3.5/site-packages/sqlalchemy/engine/base.py\", line 982, in execute\n",
      "    return meth(self, multiparams, params)\n",
      "  File \"/home/bab/Documents/teaching/CS591L1/venv/lib/python3.5/site-packages/sqlalchemy/sql/elements.py\", line 287, in _execute_on_connection\n",
      "    return connection._execute_clauseelement(self, multiparams, params)\n",
      "  File \"/home/bab/Documents/teaching/CS591L1/venv/lib/python3.5/site-packages/sqlalchemy/engine/base.py\", line 1101, in _execute_clauseelement\n",
      "    distilled_params,\n",
      "  File \"/home/bab/Documents/teaching/CS591L1/venv/lib/python3.5/site-packages/sqlalchemy/engine/base.py\", line 1250, in _execute_context\n",
      "    e, statement, parameters, cursor, context\n",
      "  File \"/home/bab/Documents/teaching/CS591L1/venv/lib/python3.5/site-packages/sqlalchemy/engine/base.py\", line 1476, in _handle_dbapi_exception\n",
      "    util.raise_from_cause(sqlalchemy_exception, exc_info)\n",
      "  File \"/home/bab/Documents/teaching/CS591L1/venv/lib/python3.5/site-packages/sqlalchemy/util/compat.py\", line 398, in raise_from_cause\n",
      "    reraise(type(exception), exception, tb=exc_tb, cause=cause)\n",
      "  File \"/home/bab/Documents/teaching/CS591L1/venv/lib/python3.5/site-packages/sqlalchemy/util/compat.py\", line 152, in reraise\n",
      "    raise value.with_traceback(tb)\n",
      "  File \"/home/bab/Documents/teaching/CS591L1/venv/lib/python3.5/site-packages/sqlalchemy/engine/base.py\", line 1246, in _execute_context\n",
      "    cursor, statement, parameters, context\n",
      "  File \"/home/bab/Documents/teaching/CS591L1/venv/lib/python3.5/site-packages/sqlalchemy/engine/default.py\", line 581, in do_execute\n",
      "    cursor.execute(statement, parameters)\n",
      "sqlalchemy.exc.IntegrityError: (sqlite3.IntegrityError) UNIQUE constraint failed: country.code\n",
      "[SQL: INSERT INTO country (name, code) VALUES (?, ?)]\n",
      "[parameters: ('failure', 'UK')]\n",
      "(Background on this error at: http://sqlalche.me/e/gkpj)\n"
     ]
    }
   ],
   "source": [
    "import traceback\n",
    "\n",
    "session = SessionMaker()\n",
    "\n",
    "author = Author(first_name='fail', last_name='failed')\n",
    "country = Country(name='failure', code='UK')\n",
    "\n",
    "session.add_all([author, country])\n",
    "try:\n",
    "    session.commit()\n",
    "except:\n",
    "    traceback.print_exc()\n",
    "# session.rollback()"
   ]
  },
  {
   "cell_type": "markdown",
   "metadata": {},
   "source": [
    "# Query"
   ]
  },
  {
   "cell_type": "code",
   "execution_count": 11,
   "metadata": {},
   "outputs": [
    {
     "name": "stdout",
     "output_type": "stream",
     "text": [
      "2019-11-13 11:33:40,382 INFO sqlalchemy.engine.base.Engine BEGIN (implicit)\n",
      "2019-11-13 11:33:40,386 INFO sqlalchemy.engine.base.Engine SELECT authors.id AS authors_id, authors.first_name AS authors_first_name, authors.last_name AS authors_last_name \n",
      "FROM authors\n",
      "2019-11-13 11:33:40,389 INFO sqlalchemy.engine.base.Engine ()\n",
      "2019-11-13 11:33:40,396 INFO sqlalchemy.engine.base.Engine SELECT country.id AS country_id, country.name AS country_name, country.code AS country_code \n",
      "FROM country \n",
      "WHERE country.code = ?\n",
      " LIMIT ? OFFSET ?\n",
      "2019-11-13 11:33:40,399 INFO sqlalchemy.engine.base.Engine ('UK', 1, 0)\n"
     ]
    }
   ],
   "source": [
    "session = SessionMaker()\n",
    "\n",
    "all_authors = session.query(Author).all()\n",
    "uk = session.query(Country).filter(Country.code=='UK').first()"
   ]
  },
  {
   "cell_type": "code",
   "execution_count": 12,
   "metadata": {},
   "outputs": [
    {
     "name": "stdout",
     "output_type": "stream",
     "text": [
      "[<Author(id=1, name='J. K. Rowling'>]\n",
      "<Country(id=1, name=United Kingdom, code=UK)>\n"
     ]
    }
   ],
   "source": [
    "print(all_authors)\n",
    "print(uk)"
   ]
  },
  {
   "cell_type": "code",
   "execution_count": 13,
   "metadata": {},
   "outputs": [
    {
     "name": "stdout",
     "output_type": "stream",
     "text": [
      "2019-11-13 11:33:40,558 INFO sqlalchemy.engine.base.Engine SELECT authors.id AS authors_id, authors.first_name AS authors_first_name, authors.last_name AS authors_last_name \n",
      "FROM authors, country_author \n",
      "WHERE ? = country_author.country_id AND authors.id = country_author.author_id\n",
      "2019-11-13 11:33:40,561 INFO sqlalchemy.engine.base.Engine (1,)\n",
      "[<Author(id=1, name='J. K. Rowling'>]\n"
     ]
    }
   ],
   "source": [
    "print(uk.authors)"
   ]
  },
  {
   "cell_type": "code",
   "execution_count": 14,
   "metadata": {},
   "outputs": [
    {
     "name": "stdout",
     "output_type": "stream",
     "text": [
      "2019-11-13 11:33:40,645 INFO sqlalchemy.engine.base.Engine SELECT anon_1.country_id AS anon_1_country_id, anon_1.country_name AS anon_1_country_name, anon_1.country_code AS anon_1_country_code, authors_1.id AS authors_1_id, authors_1.first_name AS authors_1_first_name, authors_1.last_name AS authors_1_last_name \n",
      "FROM (SELECT country.id AS country_id, country.name AS country_name, country.code AS country_code \n",
      "FROM country \n",
      "WHERE country.code = ?\n",
      " LIMIT ? OFFSET ?) AS anon_1 LEFT OUTER JOIN (country_author AS country_author_1 JOIN authors AS authors_1 ON authors_1.id = country_author_1.author_id) ON anon_1.country_id = country_author_1.country_id\n",
      "2019-11-13 11:33:40,646 INFO sqlalchemy.engine.base.Engine ('UK', 1, 0)\n",
      "\n",
      "\n",
      "<Country(id=1, name=United Kingdom, code=UK)> [<Author(id=1, name='J. K. Rowling'>]\n"
     ]
    }
   ],
   "source": [
    "from sqlalchemy.orm import joinedload\n",
    "uk = session.query(Country).options(joinedload(Country.authors)).filter(Country.code=='UK').first()\n",
    "\n",
    "print('\\n')\n",
    "print(uk, uk.authors)"
   ]
  },
  {
   "cell_type": "markdown",
   "metadata": {},
   "source": [
    "## Transactions and Queries"
   ]
  },
  {
   "cell_type": "code",
   "execution_count": 15,
   "metadata": {},
   "outputs": [
    {
     "name": "stdout",
     "output_type": "stream",
     "text": [
      "2019-11-13 11:33:40,761 INFO sqlalchemy.engine.base.Engine BEGIN (implicit)\n",
      "2019-11-13 11:33:40,764 INFO sqlalchemy.engine.base.Engine INSERT INTO country (name, code) VALUES (?, ?)\n",
      "2019-11-13 11:33:40,766 INFO sqlalchemy.engine.base.Engine ('United States', 'US')\n",
      "2019-11-13 11:33:40,774 INFO sqlalchemy.engine.base.Engine SELECT country.id AS country_id, country.name AS country_name, country.code AS country_code \n",
      "FROM country\n",
      "2019-11-13 11:33:40,777 INFO sqlalchemy.engine.base.Engine ()\n",
      "2019-11-13 11:33:40,783 INFO sqlalchemy.engine.base.Engine BEGIN (implicit)\n",
      "2019-11-13 11:33:40,786 INFO sqlalchemy.engine.base.Engine SELECT country.id AS country_id, country.name AS country_name, country.code AS country_code \n",
      "FROM country\n",
      "2019-11-13 11:33:40,789 INFO sqlalchemy.engine.base.Engine ()\n",
      "[<Country(id=1, name=United Kingdom, code=UK)>, <Country(id=2, name=United States, code=US)>]\n",
      "[<Country(id=1, name=United Kingdom, code=UK)>, <Country(id=2, name=United States, code=US)>]\n",
      "IdentitySet([])\n",
      "IdentitySet([])\n",
      "2019-11-13 11:33:40,797 INFO sqlalchemy.engine.base.Engine COMMIT\n"
     ]
    }
   ],
   "source": [
    "session = SessionMaker()\n",
    "session2 = SessionMaker()\n",
    "\n",
    "country = Country(name='United States', code='US')\n",
    "session.add(country)\n",
    "\n",
    "countries1 = session.query(Country).all()\n",
    "countries2 = session2.query(Country).all()\n",
    "\n",
    "print(countries1)\n",
    "print(countries2)\n",
    "\n",
    "print(session.new)\n",
    "print(session2.new)\n",
    "session.commit()"
   ]
  },
  {
   "cell_type": "markdown",
   "metadata": {},
   "source": [
    "## Updating a Row"
   ]
  },
  {
   "cell_type": "code",
   "execution_count": 16,
   "metadata": {},
   "outputs": [
    {
     "name": "stdout",
     "output_type": "stream",
     "text": [
      "2019-11-13 11:33:40,852 INFO sqlalchemy.engine.base.Engine BEGIN (implicit)\n",
      "2019-11-13 11:33:40,853 INFO sqlalchemy.engine.base.Engine SELECT authors.id AS authors_id, authors.first_name AS authors_first_name, authors.last_name AS authors_last_name \n",
      "FROM authors\n",
      " LIMIT ? OFFSET ?\n",
      "2019-11-13 11:33:40,854 INFO sqlalchemy.engine.base.Engine (1, 0)\n",
      "2019-11-13 11:33:40,856 INFO sqlalchemy.engine.base.Engine SELECT country.id AS country_id, country.name AS country_name, country.code AS country_code \n",
      "FROM country \n",
      "WHERE country.id = ?\n",
      "2019-11-13 11:33:40,856 INFO sqlalchemy.engine.base.Engine (2,)\n",
      "IdentitySet([<__main__.CountryAuthor object at 0x7f55cb5d5c18>])\n",
      "IdentitySet([<Country(id=2, name=United States of America, code=US)>])\n"
     ]
    }
   ],
   "source": [
    "session = SessionMaker()\n",
    "\n",
    "rowling = session.query(Author).first()\n",
    "usa = session.query(Country).get(2)\n",
    "\n",
    "rowling_usa = CountryAuthor(author_id=rowling.id, country_id=usa.id, native=False)\n",
    "session.add(rowling_usa)\n",
    "\n",
    "usa.name = 'United States of America'\n",
    "session.add(usa)\n",
    "\n",
    "print(session.new)\n",
    "print(session.dirty)"
   ]
  },
  {
   "cell_type": "code",
   "execution_count": 17,
   "metadata": {},
   "outputs": [
    {
     "name": "stdout",
     "output_type": "stream",
     "text": [
      "2019-11-13 11:33:40,967 INFO sqlalchemy.engine.base.Engine UPDATE country SET name=? WHERE country.id = ?\n",
      "2019-11-13 11:33:40,969 INFO sqlalchemy.engine.base.Engine ('United States of America', 2)\n",
      "2019-11-13 11:33:40,975 INFO sqlalchemy.engine.base.Engine INSERT INTO country_author (author_id, country_id, native) VALUES (?, ?, ?)\n",
      "2019-11-13 11:33:40,978 INFO sqlalchemy.engine.base.Engine (1, 2, 0)\n",
      "2019-11-13 11:33:40,983 INFO sqlalchemy.engine.base.Engine SELECT country.id AS country_id, country.name AS country_name, country.code AS country_code \n",
      "FROM country, country_author \n",
      "WHERE ? = country_author.author_id AND country.id = country_author.country_id\n",
      "2019-11-13 11:33:40,986 INFO sqlalchemy.engine.base.Engine (1,)\n",
      "[<Country(id=1, name=United Kingdom, code=UK)>, <Country(id=2, name=United States of America, code=US)>]\n",
      "2019-11-13 11:33:40,992 INFO sqlalchemy.engine.base.Engine COMMIT\n"
     ]
    }
   ],
   "source": [
    "print(rowling.countries)\n",
    "\n",
    "session.commit()"
   ]
  }
 ],
 "metadata": {
  "kernelspec": {
   "display_name": "Python 3",
   "language": "python",
   "name": "python3"
  },
  "language_info": {
   "codemirror_mode": {
    "name": "ipython",
    "version": 3
   },
   "file_extension": ".py",
   "mimetype": "text/x-python",
   "name": "python",
   "nbconvert_exporter": "python",
   "pygments_lexer": "ipython3",
   "version": "3.5.2"
  }
 },
 "nbformat": 4,
 "nbformat_minor": 2
}
