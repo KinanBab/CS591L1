{
 "cells": [
  {
   "cell_type": "markdown",
   "metadata": {
    "slideshow": {
     "slide_type": "slide"
    }
   },
   "source": [
    "# Languages, Parsing, and Abstract Syntax Trees"
   ]
  },
  {
   "cell_type": "markdown",
   "metadata": {
    "slideshow": {
     "slide_type": "fragment"
    }
   },
   "source": [
    "These notes cover several background concepts, definitions, and constructs that will allow us to describe and reason about programming languages."
   ]
  },
  {
   "cell_type": "markdown",
   "metadata": {
    "slideshow": {
     "slide_type": "slide"
    }
   },
   "source": [
    "## Dependencies"
   ]
  },
  {
   "cell_type": "code",
   "execution_count": 73,
   "metadata": {
    "slideshow": {
     "slide_type": "skip"
    }
   },
   "outputs": [],
   "source": [
    "# Presentation dependencies.\n",
    "%matplotlib inline\n",
    "%config InlineBackend.figure_format='retina'\n",
    "import matplotlib as mp\n",
    "import matplotlib.pyplot as plt\n",
    "from importlib import reload\n",
    "from IPython.display import Image\n",
    "from IPython.display import display_html\n",
    "from IPython.display import display\n",
    "from IPython.display import Math\n",
    "from IPython.display import Latex\n",
    "from IPython.display import HTML\n",
    "\n",
    "# Content dependencies (also reproduced inline).\n",
    "from random import randint\n",
    "from itertools import permutations\n",
    "from functools import reduce\n",
    "from tqdm import tqdm"
   ]
  },
  {
   "cell_type": "markdown",
   "metadata": {
    "slideshow": {
     "slide_type": "slide"
    }
   },
   "source": [
    "## Mathematical Background and Prerequisites"
   ]
  },
  {
   "cell_type": "markdown",
   "metadata": {
    "slideshow": {
     "slide_type": "slide"
    }
   },
   "source": [
    "**Basic logic.** It is expected that the reader is familiar with the basic concepts of mathematical logic, including formulas, predicates, relational operators, and terms.\n",
    "\n",
    "**Basic set theory.** It is expected that the reader is familiar with the notion of a set (both finite and infinite), set size, and set comprehension notation (e.g., $\\{1,2,3,4\\}$ is a set and $\\{x \\ | \\ x \\in \\mathbb{Z}, x > 0 \\} = \\{1, 2, 3, ...\\}$). Is it also expected that the reader is familiar with the membership and subset relations between elements and sets, (e.g., $1 \\in \\{1,2,3\\}$ and $\\{2,3\\} \\subset \\{1,2,3\\}$). \n"
   ]
  },
  {
   "cell_type": "markdown",
   "metadata": {
    "slideshow": {
     "slide_type": "slide"
    }
   },
   "source": [
    "## Defining Programming Languages"
   ]
  },
  {
   "cell_type": "markdown",
   "metadata": {
    "slideshow": {
     "slide_type": "fragment"
    }
   },
   "source": [
    "In order to define and reason about programming languages, and in order to write automated tools and algorithms that can operate on programs written using programming languagues, we must be able to define formally (i.e., mathematically) what is a programming language and what is a program."
   ]
  },
  {
   "cell_type": "markdown",
   "metadata": {
    "slideshow": {
     "slide_type": "slide"
    }
   },
   "source": [
    "### Sets of Character Strings"
   ]
  },
  {
   "cell_type": "markdown",
   "metadata": {
    "slideshow": {
     "slide_type": "fragment"
    }
   },
   "source": [
    "In computer science, one common way to mathematically model a formal language is to introduce a finite set of symbols (an *alphabet*). A *language* is then any subset of the set of all strings consisting of symbols from that alphabet."
   ]
  },
  {
   "cell_type": "markdown",
   "metadata": {
    "slideshow": {
     "slide_type": "fragment"
    }
   },
   "source": [
    "<div style=\"background-color:#F6F4D8; padding:5px 8px 5px 8px;\">\n",
    "<b>Definition.</b> An <i>alphabet</i> is a finite set $A$. We will call elements $a \\in A$ of the set <i>characters</i>. The typical alphabet we will use in this course is the set of 128 ASCII characters. However, any finite set can be an alphabet.\n",
    "</div>"
   ]
  },
  {
   "cell_type": "markdown",
   "metadata": {
    "slideshow": {
     "slide_type": "fragment"
    }
   },
   "source": [
    "<div style=\"background-color:#F6F4D8; padding:5px 8px 5px 8px;\">\n",
    "<b>Definition.</b> Given an alphabet $A$, a <i>character string</i> or <i>string</i> is any ordered finite sequence of characters from that alphabet. We will denote the empty string (containing no characters) using the symbol $\\varepsilon$, and we will denote the length of a string $s$ using the notation $|s|$.\n",
    "</div>"
   ]
  },
  {
   "cell_type": "markdown",
   "metadata": {
    "slideshow": {
     "slide_type": "fragment"
    }
   },
   "source": [
    "<div style=\"background-color:#F6F4D8; padding:5px 8px 5px 8px;\">\n",
    "<b>Definition.</b> Given an alphabet $A$, let $U$ be the set of all finite strings that can be built using characters from $A$ (including the empty string $\\varepsilon$). In other words, we can say:\n",
    "<span style=\"height:25px; display:block;\"></span>\n",
    "$$U \\ = \\ \\{s \\ | \\ s \\ \\mathrm{is \\ a \\ finite \\ string \\ of \\ characters \\ from \\ alphabet} \\ A\\}$$\n",
    "<span style=\"height:25px; display:block;\"></span>\n",
    "Any subset $L \\subset U$ is a <i>language</i>. That is, any set of character strings (whether the set is finite or infinite) is a language.\n",
    "</div>"
   ]
  },
  {
   "cell_type": "markdown",
   "metadata": {
    "slideshow": {
     "slide_type": "slide"
    }
   },
   "source": [
    "### Sets of Token Sequences"
   ]
  },
  {
   "cell_type": "markdown",
   "metadata": {
    "slideshow": {
     "slide_type": "fragment"
    }
   },
   "source": [
    "Unlike human languagues, programming languages usually have a relatively small collection of symbol strings (e.g., commands or instructions) that are used to construct programs. Thus, we can adjust the definition of what constitutes a language to account for this."
   ]
  },
  {
   "cell_type": "markdown",
   "metadata": {
    "slideshow": {
     "slide_type": "fragment"
    }
   },
   "source": [
    "<div style=\"background-color:#F6F4D8; padding:5px 8px 5px 8px;\">\n",
    "<b>Definition.</b> Given an alphabet $A$, a <i>token</i> is a finite, non-empty (usually short) string of characters from that alphabet.\n",
    "</div>"
   ]
  },
  {
   "cell_type": "markdown",
   "metadata": {
    "slideshow": {
     "slide_type": "fragment"
    }
   },
   "source": [
    "<div style=\"background-color:#F6F4D8; padding:5px 8px 5px 8px;\">\n",
    "<b>Definition.</b> Given a set of tokens $T$, let $U$ be the set of all finite sequences that can be built using tokens from $T$ (including the empty sequence). In other words, we can say:\n",
    "<span style=\"height:25px; display:block;\"></span>\n",
    "$$U \\ = \\ \\{s \\ | \\ s \\ \\mathrm{is \\ a \\ finite \\ sequence \\ of \\ tokens \\ from} \\ T\\}$$\n",
    "<span style=\"height:25px; display:block;\"></span>\n",
    "Any subset $L \\subset U$ is a <i>language</i>. That is, any set of token sequences (whether the set is finite or infinite) is a language.\n",
    "</div>"
   ]
  },
  {
   "cell_type": "markdown",
   "metadata": {
    "slideshow": {
     "slide_type": "fragment"
    }
   },
   "source": [
    "<div style=\"background-color:#E1F8E1; padding:5px 8px 5px 8px;\">\n",
    "<b>Example.</b> Consider the following set of tokens:\n",
    "<span style=\"height:25px; display:block;\"></span>\n",
    "$$T = \\{\\textbf{true}, \\textbf{false}, \\textbf{or}, \\textbf{and}, \\textbf{not}, \\textbf{(}, \\textbf{)}, \\textbf{,}\\}$$\n",
    "<span style=\"height:25px; display:block;\"></span>\n",
    "The set of token sequences that represent valid boolean formulas is a language:\n",
    "<span style=\"height:25px; display:block;\"></span>\n",
    "$$L = \\{\\ \\textbf{true} \\ , \\ \\textbf{false} \\ , \\ \\textbf{not ( false )} \\ , \\ \\textbf{and ( true , false )} \\ , \\ldots \\ \\}$$\n",
    "<span style=\"height:25px; display:block;\"></span>\n",
    "Note that $L$ is an infinitely large set.\n",
    "</div>"
   ]
  },
  {
   "cell_type": "markdown",
   "metadata": {
    "slideshow": {
     "slide_type": "fragment"
    }
   },
   "source": [
    "If a language is just a subset of the set of all possible token sequences, how do we mathematically specify interesting subsets?"
   ]
  },
  {
   "cell_type": "markdown",
   "metadata": {
    "slideshow": {
     "slide_type": "slide"
    }
   },
   "source": [
    "### Formal Tools for Defining Languages"
   ]
  },
  {
   "cell_type": "markdown",
   "metadata": {
    "slideshow": {
     "slide_type": "fragment"
    }
   },
   "source": [
    "A variety of formal tools and techniques exist within computer science and mathematics to formally define, identify, or delineate interesting subsets of the set of all strings. These range in their expressive power from [regular expressions](https://en.wikipedia.org/wiki/Regular_expression) (or, equivalently, [finite state automata](https://en.wikipedia.org/wiki/Finite-state_machine)) to [Turing machines](https://en.wikipedia.org/wiki/Turing_machine). A full review of these techniques is beyond the scope of this course."
   ]
  },
  {
   "cell_type": "markdown",
   "metadata": {
    "slideshow": {
     "slide_type": "fragment"
    }
   },
   "source": [
    "<div style=\"background-color:#F6F4D8; padding:5px 8px 5px 8px;\">\n",
    "<b>Definition.</b> Given a token set $T$ and a language $L$ consisting of finite sequences of tokens from $T$, the <i>syntax</i> of $L$ is a collection of formal rules defining <i>exactly</i> which token sequences are in $L$. These rules are sometimes also called <i>syntactic rules</i>, a <i>formal grammar</i>, or simply a <i>grammar</i>.\n",
    "</div>"
   ]
  },
  {
   "cell_type": "markdown",
   "metadata": {
    "slideshow": {
     "slide_type": "fragment"
    }
   },
   "source": [
    "In these notes, we will focus on a common formal technique for defining languages that has been adopted by the creators of programming languages: [context-free grammars](https://en.wikipedia.org/wiki/Context-free_grammar) (CFGs). While CFGs are not the most powerful formal tool for defining languages, they are sufficient to define the kinds of recursive language patterns found in programming languages that are used in practice. The most common representation for such grammars is [Backus-Naur Form](https://en.wikipedia.org/wiki/Backus%E2%80%93Naur_form), abbreviated henceforward as BNF."
   ]
  },
  {
   "cell_type": "markdown",
   "metadata": {
    "slideshow": {
     "slide_type": "fragment"
    }
   },
   "source": [
    "The production rules in a grammar's BNF representation can be viewed both as a way to construct an element (i.e., a token sequence that is a program) in the language, or as a way to break down (i.e., *parse*) a token sequence piece by piece until nothing is left."
   ]
  },
  {
   "cell_type": "markdown",
   "metadata": {
    "slideshow": {
     "slide_type": "fragment"
    }
   },
   "source": [
    "<div style=\"background-color:#F6F4D8; padding:5px 8px 5px 8px;\">\n",
    "<b>Definition.</b> Given an alphabet, token set, and grammar definition (e.g., represented using BNF notation), we define the <i>concrete syntax</i> to be the set of all character strings (or, equivalently, token sequences) that conform to the grammar definition. We call a particular character string (or token sequence) that conforms to the grammar definition a <i>concrete syntax instance</i>.\n",
    "</div>"
   ]
  },
  {
   "cell_type": "markdown",
   "metadata": {
    "slideshow": {
     "slide_type": "fragment"
    }
   },
   "source": [
    "<div style=\"background-color:#E1F8E1; padding:5px 8px 5px 8px;\">\n",
    "<b>Example.</b> Let $T$ be a set of tokens:\n",
    "<span style=\"height:25px; display:block;\"></span>\n",
    "$$T = \\{\\textbf{true}\\}$$\n",
    "<span style=\"height:25px; display:block;\"></span>\n",
    "The following is a grammar for a very simple programming language that contains only one possible token sequence consisting of a single token $\\textbf{true}$:\n",
    "<span style=\"height:25px; display:block;\"></span>\n",
    "$$\\textit{program} ::= \\textbf{true}$$\n",
    "<span style=\"height:25px; display:block;\"></span>\n",
    "In this case, the language is finite and small, so we can write it down as a set:\n",
    "<span style=\"height:25px; display:block;\"></span>\n",
    "$$L = \\{ \\ \\textbf{true} \\ \\}$$\n",
    "<span style=\"height:25px; display:block;\"></span>\n",
    "</div>"
   ]
  },
  {
   "cell_type": "markdown",
   "metadata": {
    "slideshow": {
     "slide_type": "fragment"
    }
   },
   "source": [
    "<div style=\"background-color:#E1F8E1; padding:5px 8px 5px 8px;\">\n",
    "<b>Example.</b> We can extend the language in the above example by adding another token:\n",
    "<span style=\"height:25px; display:block;\"></span>\n",
    "$$T = \\{\\textbf{true}, \\textbf{false}\\}$$\n",
    "<span style=\"height:25px; display:block;\"></span>\n",
    "The following BNF grammar definition now contains two choices (each choice is a sequence consisting of a single terminal):\n",
    "<span style=\"height:25px; display:block;\"></span>\n",
    "\\begin{eqnarray*}\n",
    "\\textit{program} & ::= & \\textbf{true} \\\\\n",
    "                 &  |  & \\textbf{false} \\\\\n",
    "\\end{eqnarray*}\n",
    "<span style=\"height:25px; display:block;\"></span>\n",
    "The programming language that satisfies the above grammar contains two token sequences (each consisting of a single token):\n",
    "<span style=\"height:25px; display:block;\"></span>\n",
    "$$L = \\{ \\ \\textbf{true} \\ , \\ \\textbf{false} \\ \\}$$\n",
    "<span style=\"height:25px; display:block;\"></span>\n",
    "</div>"
   ]
  },
  {
   "cell_type": "markdown",
   "metadata": {
    "slideshow": {
     "slide_type": "fragment"
    }
   },
   "source": [
    "<div style=\"background-color:#E1F8E1; padding:5px 8px 5px 8px;\">\n",
    "<b>Example.</b> Extending the above language definition further, we can construct a language for Boolean formulas. The set of tokens $T$ would be defined as follows: \n",
    "<span style=\"height:25px; display:block;\"></span>\n",
    "$$T = \\{\\textbf{true}, \\textbf{false}, \\textbf{or}, \\textbf{and}, \\textbf{not}, \\textbf{(}, \\textbf{)}, \\textbf{,}\\}$$\n",
    "<span style=\"height:25px; display:block;\"></span>\n",
    "The following BNF grammar definition now contains five choices (each choice is a sequence consisting of non-terminals and/or terminals):\n",
    "<span style=\"height:25px; display:block;\"></span>\n",
    "\\begin{eqnarray*}\n",
    "\\textit{program} & ::= & \\textbf{true} \\\\\n",
    "                 &  |  & \\textbf{false} \\\\\n",
    "                 &  |  & \\textbf{and} \\ \\textbf{(} \\ \\textit{program} \\ \\textbf{,} \\ \\textit{program} \\ \\textbf{)}\\\\\n",
    "                 &  |  & \\textbf{or} \\ \\textbf{(} \\ \\textit{program} \\ \\textbf{,} \\ \\textit{program} \\ \\textbf{)}\\\\\n",
    "                 &  |  & \\textbf{not} \\ \\textbf{(} \\ \\textit{program} \\ \\textbf{)}\\\\\n",
    "\\end{eqnarray*}\n",
    "<span style=\"height:25px; display:block;\"></span>\n",
    "This programming language now contains infinitely many finite token sequences:\n",
    "<span style=\"height:25px; display:block;\"></span>\n",
    "$$L = \\{\\ \\textbf{true} \\ , \\ \\textbf{false} \\ , \\ \\textbf{not ( false )} \\ , \\ \\textbf{and ( true , false )} \\ , \\ldots \\ \\}$$\n",
    "<span style=\"height:25px; display:block;\"></span>\n",
    "</div>"
   ]
  },
  {
   "cell_type": "markdown",
   "metadata": {
    "slideshow": {
     "slide_type": "fragment"
    }
   },
   "source": [
    "<div style=\"background-color:#E1F8E1; padding:5px 8px 5px 8px;\">\n",
    "<a name=\"85feea29-7b81-4b58-bf08-bf8b0b2195e9\"></a>\n",
    "<b>Example [<a href=\"#85feea29-7b81-4b58-bf08-bf8b0b2195e9\">link</a>].</b> We can extend the language by adding a production rule for statements, and then by allowing a program to be a sequence of one or more statements (that themselves may contain formulas). The set of tokens is defined below:\n",
    "<span style=\"height:25px; display:block;\"></span>\n",
    "$$T = \\{\\textbf{true}, \\textbf{false}, \\textbf{or}, \\textbf{and}, \\textbf{not}, \\textbf{(}, \\textbf{)}, \\textbf{,}, \\textbf{print}, \\textbf{skip}, \\textbf{;}\\}$$\n",
    "<span style=\"height:25px; display:block;\"></span>\n",
    "Note that in such a scenario, we would distinguish one of the production as the one representing token sequences in our language; in this example, that production rule is the one for $\\textit{program}$. The following is the grammar definition for this language:\n",
    "<span style=\"height:25px; display:block;\"></span>\n",
    "\\begin{eqnarray*}\n",
    "\\textit{program} & ::= & \\textit{statement} \\\\\n",
    "                 &  |  & \\textit{statement} \\ \\textit{program} \\\\\n",
    " & & \\\\\n",
    "\\textit{statement} & ::= & \\textbf{print} \\ \\textit{formula} \\ \\textbf{;} \\\\\n",
    "                 &  |  & \\textbf{skip} \\ \\textbf{;} \\\\\n",
    " & & \\\\\n",
    "\\textit{formula} & ::= & \\textbf{true} \\\\\n",
    "                 &  |  & \\textbf{false} \\\\\n",
    "                 &  |  & \\textbf{and} \\ \\textbf{(} \\ \\textit{formula} \\ \\textbf{,} \\ \\textit{formula} \\ \\textbf{)} \\\\\n",
    "                 &  |  & \\textbf{or} \\ \\textbf{(} \\ \\textit{formula} \\ \\textbf{,} \\ \\textit{formula} \\ \\textbf{)}\\\\\n",
    "                 &  |  & \\textbf{not} \\ \\textbf{(} \\ \\textit{formula} \\ \\textbf{)}\\\\\n",
    "\\end{eqnarray*}\n",
    "<span style=\"height:25px; display:block;\"></span>\n",
    "</div>"
   ]
  },
  {
   "cell_type": "markdown",
   "metadata": {
    "slideshow": {
     "slide_type": "slide"
    }
   },
   "source": [
    "## Parsing, Abstract Syntax, and Abstract Syntax Trees"
   ]
  },
  {
   "cell_type": "markdown",
   "metadata": {
    "slideshow": {
     "slide_type": "fragment"
    }
   },
   "source": [
    "Given a programming language definition, we want to have the ability to operate on programs written in that language using an automated process. To do so, we need to convert the character string representations of programs in that programming language (i.e., the concrete syntax representation) into instances of a data structure; each data structure instance would then be a representation of a program in that language as data on which we can operate."
   ]
  },
  {
   "cell_type": "markdown",
   "metadata": {
    "slideshow": {
     "slide_type": "slide"
    }
   },
   "source": [
    "### Abstract Syntax"
   ]
  },
  {
   "cell_type": "markdown",
   "metadata": {
    "slideshow": {
     "slide_type": "fragment"
    }
   },
   "source": [
    "<div style=\"background-color:#F6F4D8; padding:5px 8px 5px 8px;\">\n",
    "<b>Definition.</b> For a particular programming language definition, we define the <i>abstract syntax</i> to be the set of all data structure instances that correspond to a character string (or token sequence) that conforms to the grammar definition for that language. An instance of the abstract syntax data structure is sometimes called a <i>parse tree</i>, an <i>abstract syntax tree</i>, or <i>AST</i>.\n",
    "</div>"
   ]
  },
  {
   "cell_type": "markdown",
   "metadata": {
    "slideshow": {
     "slide_type": "fragment"
    }
   },
   "source": [
    "<div style=\"background-color:#E1F8E1; padding:5px 8px 5px 8px;\">\n",
    "<b>Example.</b> Consider again the language that conforms to the following grammar:\n",
    "<span style=\"height:25px; display:block;\"></span>\n",
    "\\begin{eqnarray*}\n",
    "\\textit{formula} & ::= & \\textbf{true} \\ \\ | \\ \\ \\textbf{false} \\ \\ | \\ \\ \\textbf{not} \\ \\textbf{(} \\ \\textit{formula} \\ \\textbf{)} \\\\\n",
    "                 &  |  & \\textbf{and} \\ \\textbf{(} \\ \\textit{formula} \\ \\textbf{,} \\ \\textit{formula} \\ \\textbf{)} \\ \\ | \\ \\ \\textbf{or} \\ \\textbf{(} \\ \\textit{formula} \\ \\textbf{,} \\ \\textit{formula} \\ \\textbf{)}\\\\\n",
    "\\end{eqnarray*}\n",
    "<span style=\"height:25px; display:block;\"></span>\n",
    "The following is the character string of one possible program in the language. This character string is an instance of the concrete syntax of the language.\n",
    "\n",
    "<pre>\n",
    "and (or (and (true, false), not(false)), or (true, false))\n",
    "</pre>\n",
    "\n",
    "The above character string might be converted into a structured representation of the program within some host language (i.e., the programming language being used to operate on these programs: checking for errors, interpreting, or compiling the program). Below, we present one possible Python representation of the instance of the abstract syntax (i.e., the parse tree) corresponding to the concrete syntax instance above. This representation uses nested Python dictionaries to represent the parse tree, with strings being used to represent node labels and leaves.\n",
    "\n",
    "<pre>\n",
    "{ \"And\": [\n",
    "    { \"Or\": [\n",
    "        { \"And\": [\"True\",\"False\"]}, \n",
    "        { \"Not\": [\"False\"]}\n",
    "      ]\n",
    "    }, \n",
    "    { \"Or\": [\"True\",\"False\"]}\n",
    "  ]\n",
    "}\n",
    "</pre>\n",
    "</div>"
   ]
  },
  {
   "cell_type": "markdown",
   "metadata": {
    "slideshow": {
     "slide_type": "fragment"
    }
   },
   "source": [
    "<div style=\"background-color:#E1F8E1; padding:5px 8px 5px 8px;\">\n",
    "<b>Example.</b> The following is an example of a formal abstract syntax definition:\n",
    "<span style=\"height:25px; display:block;\"></span>\n",
    "\\begin{eqnarray*}\n",
    "\\textit{formula} & ::= & \\textbf{true} \\ \\ | \\ \\ \\textbf{false} \\ \\ | \\ \\ \\textbf{not} \\ \\textit{formula} \\\\\n",
    "                 &  |  & \\textit{formula} \\ \\textbf{and} \\ \\textit{formula} \\ \\ | \\ \\ \\textit{formula} \\ \\textbf{or} \\ \\textit{formula}\\\\\n",
    "\\end{eqnarray*}\n",
    "<span style=\"height:25px; display:block;\"></span>\n",
    "Notice the omission of the parentheses. Also, there is no need to be concerned with the fixity (i.e., infix vs. prefix) of binary operators, since this definition is not being used to implement a parsing algorithm. All that is important is that there is enough information distinguish the different types of abstract syntax tree nodes with distinct labels.\n",
    "</div>"
   ]
  },
  {
   "cell_type": "markdown",
   "metadata": {
    "slideshow": {
     "slide_type": "slide"
    }
   },
   "source": [
    "### Parsing Python using Python"
   ]
  },
  {
   "cell_type": "markdown",
   "metadata": {
    "slideshow": {
     "slide_type": "fragment"
    }
   },
   "source": [
    "The [`ast`](https://docs.python.org/3/library/ast.html) module in Python provides an abstract syntax data structure, as well as associated functionalities (such as parsing a concrete syntax instance into an AST and performing transformations on an AST)."
   ]
  },
  {
   "cell_type": "code",
   "execution_count": 1,
   "metadata": {
    "slideshow": {
     "slide_type": "fragment"
    }
   },
   "outputs": [
    {
     "data": {
      "text/plain": [
       "'UnaryOp(op=USub(), operand=Num(n=5))'"
      ]
     },
     "execution_count": 1,
     "metadata": {},
     "output_type": "execute_result"
    }
   ],
   "source": [
    "import ast\n",
    "\n",
    "# Programmatically build an AST for the\n",
    "# Python concrete syntax expression `-5`.\n",
    "node =\\\n",
    "  ast.UnaryOp(\n",
    "    ast.USub(),\n",
    "    ast.Num(5, lineno=0, col_offset=0),\n",
    "    lineno=0,\n",
    "    col_offset=0\n",
    "  )\n",
    "\n",
    "ast.dump(node)"
   ]
  },
  {
   "cell_type": "markdown",
   "metadata": {
    "slideshow": {
     "slide_type": "fragment"
    }
   },
   "source": [
    "We can use the [`inspect`](https://docs.python.org/3/library/inspect.html) module to retrieve the concrete syntax of the body of a Python function definition."
   ]
  },
  {
   "cell_type": "code",
   "execution_count": 2,
   "metadata": {
    "slideshow": {
     "slide_type": "fragment"
    }
   },
   "outputs": [
    {
     "data": {
      "text/plain": [
       "'def f(x):\\n    return x + 2\\n'"
      ]
     },
     "execution_count": 2,
     "metadata": {},
     "output_type": "execute_result"
    }
   ],
   "source": [
    "def f(x):\n",
    "    return x + 2\n",
    "\n",
    "import inspect\n",
    "inspect.getsource(f)"
   ]
  },
  {
   "cell_type": "markdown",
   "metadata": {
    "slideshow": {
     "slide_type": "fragment"
    }
   },
   "source": [
    "We can then parse the concrete syntax using [`ast.parse()`](https://docs.python.org/3/library/ast.html#ast.parse). We demonstate step-by-step how this object can be inspected and traversed using the `ast` API."
   ]
  },
  {
   "cell_type": "code",
   "execution_count": 76,
   "metadata": {
    "slideshow": {
     "slide_type": "fragment"
    }
   },
   "outputs": [
    {
     "data": {
      "text/plain": [
       "\"Module(body=[FunctionDef(name='f', args=arguments(args=[arg(arg='x', annotation=None)], vararg=None, kwonlyargs=[], kw_defaults=[], kwarg=None, defaults=[]), body=[Return(value=BinOp(left=Name(id='x', ctx=Load()), op=Add(), right=Num(n=2)))], decorator_list=[], returns=None)])\""
      ]
     },
     "execution_count": 76,
     "metadata": {},
     "output_type": "execute_result"
    }
   ],
   "source": [
    "t = ast.parse(inspect.getsource(f))\n",
    "ast.dump(t)"
   ]
  },
  {
   "cell_type": "code",
   "execution_count": 77,
   "metadata": {
    "slideshow": {
     "slide_type": "fragment"
    }
   },
   "outputs": [
    {
     "name": "stdout",
     "output_type": "stream",
     "text": [
      "('body',)\n",
      "[<_ast.FunctionDef object at 0x110282e48>]\n",
      "True\n",
      "('name', 'args', 'body', 'decorator_list', 'returns')\n",
      "[<_ast.Return object at 0x110282860>]\n",
      "True\n",
      "('value',)\n",
      "<_ast.BinOp object at 0x110282ac8>\n",
      "True\n",
      "<_ast.Name object at 0x110282e80>\n",
      "x\n",
      "<_ast.Add object at 0x103690710>\n",
      "<_ast.Num object at 0x11027bcf8>\n",
      "2\n"
     ]
    }
   ],
   "source": [
    "# Get the body of the function.\n",
    "print(t._fields)\n",
    "print(t.body)\n",
    "print(type(t.body[0]) is ast.FunctionDef)\n",
    "func_body = t.body[0]\n",
    "\n",
    "# Get the statement in the body of the function.\n",
    "print(func_body._fields)\n",
    "print(func_body.body)\n",
    "print(type(func_body.body[0]) is ast.Return)\n",
    "stmt_return = func_body.body[0]\n",
    "\n",
    "# Get the expression inside the return statement.\n",
    "print(stmt_return._fields)\n",
    "print(stmt_return.value)\n",
    "print(type(stmt_return.value) is ast.BinOp)\n",
    "expr_add = stmt_return.value\n",
    "\n",
    "# Look at the expression operator and its arguments.\n",
    "print(expr_add.left)\n",
    "print(expr_add.left.id)\n",
    "print(expr_add.op)\n",
    "print(expr_add.right)\n",
    "print(expr_add.right.n)"
   ]
  },
  {
   "cell_type": "markdown",
   "metadata": {
    "slideshow": {
     "slide_type": "fragment"
    }
   },
   "source": [
    "The `ast` API allows us to programmatically write our own functions for operating on Python ASTs."
   ]
  },
  {
   "cell_type": "code",
   "execution_count": 16,
   "metadata": {
    "slideshow": {
     "slide_type": "fragment"
    }
   },
   "outputs": [
    {
     "name": "stdout",
     "output_type": "stream",
     "text": [
      "<class '_ast.Num'>\n",
      "<class '_ast.Num'>\n"
     ]
    },
    {
     "data": {
      "text/plain": [
       "['f', 'a', 'b', 'u', 'z', 'x', 'y', 'z']"
      ]
     },
     "execution_count": 16,
     "metadata": {},
     "output_type": "execute_result"
    }
   ],
   "source": [
    "def f(x, y):\n",
    "    a = b\n",
    "    u = 1 + 2\n",
    "    z = x + y\n",
    "    return z\n",
    "\n",
    "def get_variables(a):\n",
    "    if type(a) is ast.Module:\n",
    "        return [v for s in a.body for v in get_variables(s)]\n",
    "    \n",
    "    elif type(a) is ast.FunctionDef:\n",
    "        vs = [v for s in a.body for v in get_variables(s)]\n",
    "        return [a.name] + vs\n",
    "\n",
    "    elif type(a) is ast.Assign:\n",
    "        vs = [v for s in a.targets for v in get_variables(s)]\n",
    "        return vs + get_variables(a.value)\n",
    "    \n",
    "    elif type(a) is ast.Return:\n",
    "        return get_variables(a.value)\n",
    "\n",
    "    elif type(a) is ast.Name:\n",
    "        return [a.id]\n",
    "\n",
    "    elif type(a) is ast.BinOp:\n",
    "        return get_variables(a.left) + get_variables(a.right)\n",
    "    \n",
    "    else:\n",
    "        print(type(a))\n",
    "        return []\n",
    "\n",
    "a = ast.parse(inspect.getsource(f))\n",
    "get_variables(a)\n"
   ]
  },
  {
   "cell_type": "markdown",
   "metadata": {
    "slideshow": {
     "slide_type": "fragment"
    }
   },
   "source": [
    "We can use the `ast.walk()` function to traverse a tree if we are not worried about its internal structure but wish to operate on its nodes."
   ]
  },
  {
   "cell_type": "code",
   "execution_count": 17,
   "metadata": {
    "slideshow": {
     "slide_type": "fragment"
    }
   },
   "outputs": [
    {
     "data": {
      "text/plain": [
       "['f', 'a', 'b', 'u', 'z', 'z', 'x', 'y']"
      ]
     },
     "execution_count": 17,
     "metadata": {},
     "output_type": "execute_result"
    }
   ],
   "source": [
    "vs = []\n",
    "for node in ast.walk(a):\n",
    "    if isinstance(node, ast.FunctionDef):\n",
    "        vs.append(node.name)\n",
    "    if isinstance(node, ast.Name):\n",
    "        vs.append(node.id)\n",
    "vs"
   ]
  },
  {
   "cell_type": "markdown",
   "metadata": {
    "slideshow": {
     "slide_type": "fragment"
    }
   },
   "source": [
    "We can use the `ast.NodeVisitor` and `ast.NodeTransformer` base classes to create our own algorithms that traverse or modify Python ASTs."
   ]
  },
  {
   "cell_type": "code",
   "execution_count": 19,
   "metadata": {
    "slideshow": {
     "slide_type": "fragment"
    }
   },
   "outputs": [
    {
     "name": "stdout",
     "output_type": "stream",
     "text": [
      "f\n",
      "a\n",
      "b\n",
      "u\n",
      "z\n",
      "x\n",
      "y\n",
      "z\n"
     ]
    }
   ],
   "source": [
    "def f(x, y):\n",
    "    a = b\n",
    "    u = 1 + 2\n",
    "    z = x + y\n",
    "    return z\n",
    "\n",
    "class VariableLister(ast.NodeVisitor):\n",
    "\n",
    "    def visit_Name(self, node):\n",
    "        print(node.id)\n",
    "        self.generic_visit(node)\n",
    "        \n",
    "    def visit_FunctionDef(self, node):\n",
    "        print(node.name)\n",
    "        self.generic_visit(node) # Needed since we are overriding method.\n",
    "\n",
    "a = ast.parse(inspect.getsource(f))\n",
    "VariableLister().visit(a)"
   ]
  },
  {
   "cell_type": "code",
   "execution_count": 22,
   "metadata": {
    "slideshow": {
     "slide_type": "fragment"
    }
   },
   "outputs": [
    {
     "data": {
      "text/plain": [
       "\"Module(body=[FunctionDef(name='f', args=arguments(args=[], vararg=None, kwonlyargs=[], kw_defaults=[], kwarg=None, defaults=[]), body=[Return(value=BinOp(left=Subscript(value=Name(id='data', ctx=Load()), slice=Index(value=Str(s='x')), ctx=Load()), op=Add(), right=Subscript(value=Name(id='data', ctx=Load()), slice=Index(value=Str(s='y')), ctx=Load())))], decorator_list=[], returns=None)])\""
      ]
     },
     "execution_count": 22,
     "metadata": {},
     "output_type": "execute_result"
    }
   ],
   "source": [
    "def f():\n",
    "    return x + y\n",
    "\n",
    "class VariableChanger(ast.NodeTransformer):\n",
    "\n",
    "    def visit_Name(self, node):\n",
    "        a =\\\n",
    "          ast.copy_location(\n",
    "            ast.Subscript(\n",
    "              value=ast.Name(id='data', ctx=ast.Load()),\n",
    "              slice=ast.Index(value=ast.Str(s=node.id)),\n",
    "              ctx=node.ctx\n",
    "            ),\n",
    "            node\n",
    "          )\n",
    "        return a\n",
    "\n",
    "f_new_ast = VariableChanger().visit(ast.parse(inspect.getsource(f)))\n",
    "ast.dump(f_new_ast)"
   ]
  },
  {
   "cell_type": "markdown",
   "metadata": {
    "slideshow": {
     "slide_type": "fragment"
    }
   },
   "source": [
    "We can use the [`astor`](https://astor.readthedocs.io) module to convert an AST back into concrete syntax."
   ]
  },
  {
   "cell_type": "code",
   "execution_count": 23,
   "metadata": {
    "slideshow": {
     "slide_type": "fragment"
    }
   },
   "outputs": [
    {
     "name": "stdout",
     "output_type": "stream",
     "text": [
      "def f():\n",
      "    return data['x'] + data['y']\n",
      "\n"
     ]
    }
   ],
   "source": [
    "import astor\n",
    "print(astor.to_source(f_new_ast))"
   ]
  },
  {
   "cell_type": "markdown",
   "metadata": {
    "slideshow": {
     "slide_type": "fragment"
    }
   },
   "source": [
    "This is the end of the document."
   ]
  }
 ],
 "metadata": {
  "anaconda-cloud": {},
  "celltoolbar": "Slideshow",
  "kernelspec": {
   "display_name": "Python 3",
   "language": "python",
   "name": "python3"
  },
  "language_info": {
   "codemirror_mode": {
    "name": "ipython",
    "version": 3
   },
   "file_extension": ".py",
   "mimetype": "text/x-python",
   "name": "python",
   "nbconvert_exporter": "python",
   "pygments_lexer": "ipython3",
   "version": "3.6.4"
  },
  "livereveal": {
   "scroll": true
  }
 },
 "nbformat": 4,
 "nbformat_minor": 1
}
