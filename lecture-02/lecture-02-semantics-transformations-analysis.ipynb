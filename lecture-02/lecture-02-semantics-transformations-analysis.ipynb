{
 "cells": [
  {
   "cell_type": "markdown",
   "metadata": {
    "slideshow": {
     "slide_type": "slide"
    }
   },
   "source": [
    "# Semantics, Transformations, and Static Analysis"
   ]
  },
  {
   "cell_type": "markdown",
   "metadata": {
    "slideshow": {
     "slide_type": "fragment"
    }
   },
   "source": [
    "These notes cover relevant notions of semantics for programming languages, as well as common families of transformations associated with programming languages (such as interpretation, compilation, and transpilation). Static analysis concepts and techniques are also defined and discussed."
   ]
  },
  {
   "cell_type": "markdown",
   "metadata": {
    "slideshow": {
     "slide_type": "slide"
    }
   },
   "source": [
    "## Dependencies"
   ]
  },
  {
   "cell_type": "code",
   "execution_count": 73,
   "metadata": {
    "slideshow": {
     "slide_type": "skip"
    }
   },
   "outputs": [],
   "source": [
    "# Presentation dependencies.\n",
    "%matplotlib inline\n",
    "%config InlineBackend.figure_format='retina'\n",
    "import matplotlib as mp\n",
    "import matplotlib.pyplot as plt\n",
    "from importlib import reload\n",
    "from IPython.display import Image\n",
    "from IPython.display import display_html\n",
    "from IPython.display import display\n",
    "from IPython.display import Math\n",
    "from IPython.display import Latex\n",
    "from IPython.display import HTML\n",
    "\n",
    "# Content dependencies (also reproduced inline).\n",
    "from random import randint\n",
    "from itertools import permutations\n",
    "from functools import reduce\n",
    "from tqdm import tqdm"
   ]
  },
  {
   "cell_type": "markdown",
   "metadata": {
    "slideshow": {
     "slide_type": "slide"
    }
   },
   "source": [
    "## Denotational and Operational Semantics"
   ]
  },
  {
   "cell_type": "markdown",
   "metadata": {
    "slideshow": {
     "slide_type": "slide"
    }
   },
   "source": [
    "The abstract syntax of a programming language is a set of symbolic objects (i.e., the abstract syntax instances, such as programs) that have no meaning unless a meaning is assigned to them. There are two ways in which we can assign meaning to these objects. We can choose to assign a mathematical object to each abstract syntax instance, or we can define a collection of deterministic transformations that specify how we can convert each abstract syntax instance into another abstract syntax instance. Roughly speaking, assigning a mathematical object to each program tells us what it *means*, while specifying symbolic converion rules tells us how to *run* the program by converting its syntactic constructs in a step-by-step manner into others."
   ]
  },
  {
   "cell_type": "markdown",
   "metadata": {
    "slideshow": {
     "slide_type": "fragment"
    }
   },
   "source": [
    "<div style=\"background-color:#F6F4D8; padding:5px 8px 5px 8px;\">\n",
    "<b>Definition.</b> The denotational semantics of an abstract syntax is a mapping from the set of abstract syntax instances $A$ to some mathematical set of objects $D$, which is often called a *semantic domain* or just *domain*. The mapping from $A$ to $D$ itself is often denoted using the circumfix Oxford double bracket notation $[[ ... ]]$, and the definition of a denotational semantics of $A$ (i.e., the definition of this mapping $[[ ... ]]$) is often specified using a collection of logical inference rules.\n",
    "</div>"
   ]
  },
  {
   "cell_type": "markdown",
   "metadata": {
    "slideshow": {
     "slide_type": "fragment"
    }
   },
   "source": [
    "<div style=\"background-color:#F6F4D8; padding:5px 8px 5px 8px;\">\n",
    "<b>Definition.</b> Let $A$ be an abstract syntax of a programming language. The operational semantics of an abstract syntax is a set of rules that specify how each abstract syntax instance $a \\in A$ can be transformed some kind of object (possibly another element $a' \\in A$) that represents the result of performing the computation (or individual computation step) described by $a$.\n",
    "</div>"
   ]
  },
  {
   "cell_type": "markdown",
   "metadata": {
    "slideshow": {
     "slide_type": "slide"
    }
   },
   "source": [
    "There are distinct kinds of operational semantics, such as *small-step semantics* and *big-step semantics* (also known as *natural semantics*). In these notes, the operational semantics we describe is closest to big-step semantics, with some simplifications. We adopt this particular approach to defining operational semantics because it corresponds more closely to a recursive implementation of an algorithm for interpreting ASTs.\n",
    "\n",
    "The operational semantics for a programming language represents a *contract*, a set of *constraints*, or a set of *requirements* that an algorithm that implements an interpreter or compiler of that language must respect in order to be considered correct. However, whoever builds an implementation of an interpreter or compiler for a language has full freedom and flexibility in how they choose to implement the interpreter in all other aspects as long as it conforms to the operational semantics. This is what makes it possible to introduce optimizations into interpreters and compilers (such as optimizations to improve performance or reduce use of memory) while preserving the correctness of their behavior. The operational semantics for a programming language is defined using a collection of *inference rules*."
   ]
  },
  {
   "cell_type": "markdown",
   "metadata": {
    "slideshow": {
     "slide_type": "fragment"
    }
   },
   "source": [
    "<div style=\"background-color:#F6F4D8; padding:5px 8px 5px 8px;\">\n",
    "<b>Definition.</b> An <i>inference rule</i> is a notation used within mathematics and computer science to define relationships between mathematical facts and formulas. Each inference rule consists of a horizontal line with zero or more logical formulas above the line and one logial formula below the line. The logical formulas above the line are called *premises*, and the formula below the line is called the <i>conclusion</i>.\n",
    "<span style=\"height:25px; display:block;\"></span>\n",
    "\\begin{eqnarray*}\n",
    "\\mathrm{\\scriptsize [Name{-}of{-}Inference{-}Rule]} & \\ & \\frac{\\ \\ \\textit{premise} \\ \\ \\ \\ \\ \\ \\textit{premise}\\ \\ }{\\textit{conclusion}}\\\\\n",
    "\\end{eqnarray*}\n",
    "<span style=\"height:25px; display:block;\"></span>\n",
    "\\begin{eqnarray*}\n",
    "\\mathrm{\\scriptsize [Example]} & \\ & \\frac{\\ \\ \\textbf{sun is out} \\ \\ \\ \\ \\ \\ \\textbf{sky is clear}\\ \\ }{\\textbf{it is not raining}}\\\\\n",
    "\\end{eqnarray*}\n",
    "<span style=\"height:25px; display:block;\"></span>\n",
    "An inference rule can be interpreted as a portion of a larger algorithm. The premises specify the recursive calls, or calls to other functions, that may need to be made, and the results that are obtained from those invocations. The conclusion specifies what inputs can be handled by that inference rule, and what outputs should be returned given those inputs and the premises.\n",
    "\n",
    "Suppose we have a binary relation $\\Downarrow$ between instances of an abstract syntax. We can read $a \\Downarrow a'$ as <i>$a$ becomes $a'$</i> when we follow the operational semantics of the language*.\n",
    "<span style=\"height:25px; display:block;\"></span>\n",
    "\\begin{eqnarray*}\n",
    "\\mathrm{\\scriptsize [Algorithm{-}Case]} & \\ & \\frac{\\ \\ \\textit{input}_1 \\Downarrow \\textit{output}_1 \\ \\ \\ \\ \\ \\ \\textit{input}_1 \\Downarrow \\textit{output}_1\\ \\ }{\\textit{input}_0 \\Downarrow \\textit{output}_0}\\\\\n",
    "\\end{eqnarray*}\n",
    "<span style=\"height:25px; display:block;\"></span>\n",
    "Note that in the above, $\\textit{input}_1$ and $\\textit{input}_2$ may depend on $\\textit{input}_0$, and $\\textit{output}_0$ may depend on $\\textit{output}_1$ and $\\textit{output}_2$. In other words, one could rewrite an inference rule in the following way using natural language:\n",
    "<span style=\"height:25px; display:block;\"></span>\n",
    "\\begin{eqnarray*}\n",
    "\\mathrm{\\scriptsize [Algorithm{-}Case]} & \\ & \\frac{\\textbf{this algorithm on } \\textit{input}_1 \\textbf{ yields } \\textit{output}_1 \\ \\ \\ \\ \\ \\ \\textbf{this algorithm on } \\textit{input}_2 \\textbf{ yields } \\textit{output}_2}{\\textbf{given } \\textit{input}_0, \\textbf{ if the above are true then output } \\textit{output}_0 }\\\\\n",
    "\\end{eqnarray*}\n",
    "<span style=\"height:25px; display:block;\"></span>\n",
    "\n",
    "</div>"
   ]
  },
  {
   "cell_type": "markdown",
   "metadata": {
    "slideshow": {
     "slide_type": "slide"
    }
   },
   "source": [
    "## Interpretation: Evaluation and Execution"
   ]
  },
  {
   "cell_type": "markdown",
   "metadata": {
    "slideshow": {
     "slide_type": "slide"
    }
   },
   "source": [
    "The abstract syntax, or a subset of the abstract syntax, of a programming language is considered to be a set of *expressions* if the language's operational semantics do not impose any restrictions on the *order* in which a computation can operate on the expression to produce a result, called a *value*. This is possible because expressions usually represent operations with no *side effects* (such as emitting output to a screen, reading or writing files, looking at a clock, controlling a device, and so on)."
   ]
  },
  {
   "cell_type": "markdown",
   "metadata": {
    "slideshow": {
     "slide_type": "fragment"
    }
   },
   "source": [
    "<div style=\"background-color:#F6F4D8; padding:5px 8px 5px 8px;\">\n",
    "<b>Definition.</b> Let $A$ be an abstract syntax of a programming language, and let $V \\subset A$ be some subset of $A$ that we will call the <i>value set</i>. This set will represent the possible meanings of parse trees in $A$. Equivalently, it will represent the possible results of evaluating parse trees in $A$. Values that can occur directly within abstract syntax trees of the language (e.g., numeric and string literals, constructors, and so on) are usually called <i>constants</i>.\n",
    "</div>"
   ]
  },
  {
   "cell_type": "markdown",
   "metadata": {
    "slideshow": {
     "slide_type": "fragment"
    }
   },
   "source": [
    "<div style=\"background-color:#F6F4D8; padding:5px 8px 5px 8px;\">\n",
    "<b>Definition.</b> An <i>evaluation algorithm</i> converts any abstract syntax tree that represents an expression into an abstract syntax tree that represents a value.\n",
    "<span style=\"height:25px; display:block;\"></span>\n",
    "$$\\overbrace{a}^{\\textbf{AST}} \\underbrace{\\longrightarrow}_{\\textbf{evaluation}} \\overbrace{v}^{\\textbf{value}}$$\n",
    "<span style=\"height:25px; display:block;\"></span>\n",
    "</div>"
   ]
  },
  {
   "cell_type": "markdown",
   "metadata": {
    "slideshow": {
     "slide_type": "fragment"
    }
   },
   "source": [
    "<div style=\"background-color:#E1F8E1; padding:5px 8px 5px 8px;\">\n",
    "<b>Example.</b> Define the abstract syntax according to the following grammar, with $A$ consisting of all formula abstract syntax instances, and $V = \\{\\textbf{true}, \\textbf{true}\\}$ consisting of all value abstract syntax instances:\n",
    "<span style=\"height:25px; display:block;\"></span>\n",
    "\\begin{eqnarray*}\n",
    "\\textit{formula} & ::= & \\textit{value} \\ \\ | \\ \\ \\textbf{not} \\ \\textit{formula} \\ \\ | \\ \\\n",
    "                         \\textit{formula} \\ \\textbf{and} \\ \\textit{formula} \\ \\ | \\ \\ \\textit{formula} \\ \\textbf{or} \\ \\textit{formula} \\\\\n",
    "\\textit{value} & ::= & \\textbf{true} \\ \\ | \\ \\ \\textbf{false} \\\\\n",
    "\\end{eqnarray*}\n",
    "<span style=\"height:25px; display:block;\"></span>\n",
    "Let $\\neg$, $\\wedge$ and $\\vee$ represent boolean negation, conjunction, and disjunction (respectively) on the values $\\textbf{true}$ and $\\textbf{false}$. Note that each of these is just a small truth table of two or four rows. The following is a definition of an operational semantics for this language. Because these operational semantics inference rules define how expressions can be converted into values, they also represent an evaluation algorithm.\n",
    "<span style=\"height:25px; display:block;\"></span>\n",
    "\\begin{eqnarray*}\n",
    "\\mathrm{\\scriptsize [Value]} & \\ & \\frac{}{v \\Downarrow v}\\\\\n",
    "\\end{eqnarray*}\n",
    "<span style=\"height:25px; display:block;\"></span>\n",
    "\\begin{eqnarray*}\n",
    "\\mathrm{\\scriptsize [Not]} & \\ & \\frac{f \\Downarrow v}{\\textbf{not} \\ f \\Downarrow \\neg v}\\\\\n",
    "\\end{eqnarray*}\n",
    "<span style=\"height:25px; display:block;\"></span>\n",
    "\\begin{eqnarray*}\n",
    "\\mathrm{\\scriptsize [And]} & \\ & \\frac{f_1 \\Downarrow v_1 \\ \\ \\ \\ \\ \\ f_2 \\Downarrow v_2}{f_1 \\ \\textbf{and} \\ f_2 \\Downarrow v_1 \\wedge v_2}\\\\\n",
    "\\end{eqnarray*}\n",
    "<span style=\"height:25px; display:block;\"></span>\n",
    "\\begin{eqnarray*}\n",
    "\\mathrm{\\scriptsize [Or]} & \\ & \\frac{f_1 \\Downarrow v_1 \\ \\ \\ \\ \\ \\ f_2 \\Downarrow v_2}{f_1 \\ \\textbf{or} \\ f_2 \\Downarrow v_1 \\vee v_2}\\\\\n",
    "\\end{eqnarray*}\n",
    "<span style=\"height:25px; display:block;\"></span>\n",
    "Note that this is not circular: the functions $\\neg$, $\\wedge$ and $\\vee$ are much simpler than the operators $\\textbf{not}$, $\\textbf{and}$, and $\\textbf{or}$ because the former can only operate on values (i.e., $\\textbf{true}$ and $\\textbf{false}$) while the latter can take arbitrary formulas as inputs.\n",
    "</div>"
   ]
  },
  {
   "cell_type": "markdown",
   "metadata": {
    "slideshow": {
     "slide_type": "fragment"
    }
   },
   "source": [
    "<div style=\"background-color:#E1F8E1; padding:5px 8px 5px 8px;\">\n",
    "<a name=\"25feea29-1b81-4b58-bf08-bf8b0b2195b3\"></a>\n",
    "<b>Example [<a href=\"#25feea29-1b81-4b58-bf08-bf8b0b2195b3\">link</a>].</b> Below is an evaluation algorithm that uses an <i>environment</i> mapping (implemented as a Python dictionary) to keep track of what values are associated with each variable.\n",
    "</div>"
   ]
  },
  {
   "cell_type": "code",
   "execution_count": 88,
   "metadata": {
    "slideshow": {
     "slide_type": "fragment"
    }
   },
   "outputs": [
    {
     "name": "stdout",
     "output_type": "stream",
     "text": [
      "[8]\n",
      "[25]\n",
      "[None, None, 246]\n"
     ]
    }
   ],
   "source": [
    "import ast \n",
    "\n",
    "class evaluate_with_environment(ast.NodeVisitor):\n",
    "    \n",
    "    def visit_Module(self, node):\n",
    "        results = []\n",
    "        env = {}\n",
    "        for s in node.body:\n",
    "            s.env = env\n",
    "        for s in node.body:\n",
    "            results.append(self.visit(s))\n",
    "        return results\n",
    "\n",
    "    def visit_Assign(self, node):\n",
    "        env = node.env\n",
    "        node.value.env = env\n",
    "        value = self.visit(node.value)\n",
    "        env[node.targets[0].id] = value\n",
    "    \n",
    "    def visit_Expr(self, node):\n",
    "        node.value.env = node.env\n",
    "        return self.visit(node.value)\n",
    "\n",
    "    def visit_BinOp(self, node):\n",
    "        node.left.env = node.env\n",
    "        node.right.env = node.env\n",
    "        if type(node.op) is ast.Add:\n",
    "            return self.visit(node.left) + self.visit(node.right)\n",
    "\n",
    "    def visit_Num(self, node):\n",
    "        return node.n\n",
    "\n",
    "    def visit_Name(self, node):\n",
    "        return node.env[node.id]\n",
    "\n",
    "print(evaluate_with_environment().visit(ast.parse('8')))\n",
    "print(evaluate_with_environment().visit(ast.parse('5 + 8 + 9 + 3')))\n",
    "input = \"\"\"\n",
    "x = 123\n",
    "y = 123 + x\n",
    "y\n",
    "\"\"\"\n",
    "print(evaluate_with_environment().visit(ast.parse(input)))"
   ]
  },
  {
   "cell_type": "markdown",
   "metadata": {
    "slideshow": {
     "slide_type": "slide"
    }
   },
   "source": [
    "## Transformations"
   ]
  },
  {
   "cell_type": "markdown",
   "metadata": {
    "slideshow": {
     "slide_type": "slide"
    }
   },
   "source": [
    "### Optimization"
   ]
  },
  {
   "cell_type": "markdown",
   "metadata": {
    "slideshow": {
     "slide_type": "slide"
    }
   },
   "source": [
    "Suppose we want to create an optimization transformation that identifies subtrees of an AST that are *simple* (i.e., they consist only of numeric constants and operators), evaluates them into individual constants, and replaces the subtree with those constants."
   ]
  },
  {
   "cell_type": "markdown",
   "metadata": {
    "slideshow": {
     "slide_type": "fragment"
    }
   },
   "source": [
    "<div style=\"background-color:#E1F8E1; padding:5px 8px 5px 8px;\">\n",
    "<a name=\"85feea29-7b81-4b58-bf08-bf8b0b2195a3\"></a>\n",
    "<b>Example [<a href=\"#85feea29-7b81-4b58-bf08-bf8b0b2195a3\">link</a>].</b> Below is an implementation of an algorithm that identifies when a node in the AST represents an expression that contains only numeric literals and binary operators.\n",
    "</div>"
   ]
  },
  {
   "cell_type": "code",
   "execution_count": 15,
   "metadata": {
    "slideshow": {
     "slide_type": "fragment"
    }
   },
   "outputs": [
    {
     "name": "stdout",
     "output_type": "stream",
     "text": [
      "True\n",
      "False\n"
     ]
    }
   ],
   "source": [
    "import ast \n",
    "\n",
    "class is_simple(ast.NodeVisitor):\n",
    "    \n",
    "    def visit_Module(self, node):\n",
    "        results = [self.visit(s) for s in node.body]\n",
    "        return all(results)\n",
    "\n",
    "    def visit_Expr(self, node):\n",
    "        return self.visit(node.value)\n",
    "\n",
    "    def visit_BinOp(self, node):\n",
    "        return self.visit(node.left) and self.visit(node.right)\n",
    "    \n",
    "    def visit_Num(self, node):\n",
    "        return True\n",
    "    \n",
    "a = ast.parse('5 + 5 - 7 // 4 * 4')\n",
    "print(is_simple().visit(a))\n",
    "\n",
    "a = ast.parse('x + 5')\n",
    "print(is_simple().visit(a))"
   ]
  },
  {
   "cell_type": "markdown",
   "metadata": {
    "slideshow": {
     "slide_type": "fragment"
    }
   },
   "source": [
    "<div style=\"background-color:#E1F8E1; padding:5px 8px 5px 8px;\">\n",
    "<a name=\"85feea29-7b81-4b58-bf08-bf8b0b2195b3\"></a>\n",
    "<b>Example [<a href=\"#85feea29-7b81-4b58-bf08-bf8b0b2195b3\">link</a>].</b> Below is an implementation of an optimization algorithm that evaluates all simple expressions (as determined by the algorithm in the <a href=\"#85feea29-7b81-4b58-bf08-bf8b0b2195a3\">example</a> above).\n",
    "</div>"
   ]
  },
  {
   "cell_type": "code",
   "execution_count": 16,
   "metadata": {
    "slideshow": {
     "slide_type": "fragment"
    }
   },
   "outputs": [
    {
     "name": "stdout",
     "output_type": "stream",
     "text": [
      "Module(body=[Expr(value=BinOp(left=BinOp(left=Num(n=5), op=Add(), right=Num(n=5)), op=Sub(), right=BinOp(left=BinOp(left=Num(n=7), op=FloorDiv(), right=Num(n=4)), op=Mult(), right=Num(n=4))))])\n",
      "Checking: True\n"
     ]
    },
    {
     "data": {
      "text/plain": [
       "'Module(body=[Num(n=6)])'"
      ]
     },
     "execution_count": 16,
     "metadata": {},
     "output_type": "execute_result"
    }
   ],
   "source": [
    "import astor\n",
    "\n",
    "class optimize(ast.NodeTransformer):\n",
    "\n",
    "    def visit_Expr(self, node):\n",
    "        check = is_simple().visit(node)\n",
    "        print(\"Checking: \" + str(check))\n",
    "        n = eval(astor.to_source(node))\n",
    "        a =\\\n",
    "          ast.copy_location(\n",
    "            ast.Num(n),\n",
    "            node\n",
    "          )\n",
    "        return a\n",
    "\n",
    "a = ast.parse('5 + 5 - 7 // 4 * 4')\n",
    "ast.dump(a)\n",
    "print(ast.dump(a))\n",
    "a = optimize().visit(a)\n",
    "ast.dump(a)"
   ]
  },
  {
   "cell_type": "markdown",
   "metadata": {
    "slideshow": {
     "slide_type": "slide"
    }
   },
   "source": [
    "## Static Analysis and Abstract Interpretation"
   ]
  },
  {
   "cell_type": "markdown",
   "metadata": {
    "slideshow": {
     "slide_type": "slide"
    }
   },
   "source": [
    "One important distinction between interpretation algorithms and static analysis algorithms is that static analysis algorithms must terminate (typically in a very short amount of time). One reason is that static analysis techniques such as type checking must run during compilation."
   ]
  },
  {
   "cell_type": "markdown",
   "metadata": {
    "slideshow": {
     "slide_type": "fragment"
    }
   },
   "source": [
    "<div style=\"background-color:#E1F8E1; padding:5px 8px 5px 8px;\">\n",
    "<a name=\"85feea29-7b81-4b58-bf08-bf8b0b2195e3\"></a>\n",
    "<b>Example [<a href=\"#85feea29-7b81-4b58-bf08-bf8b0b2195e3\">link</a>].</b> Below is an implementation of a static analysis algorithm that infers the type of a single Python expression.\n",
    "</div>"
   ]
  },
  {
   "cell_type": "code",
   "execution_count": 11,
   "metadata": {
    "slideshow": {
     "slide_type": "fragment"
    }
   },
   "outputs": [
    {
     "name": "stdout",
     "output_type": "stream",
     "text": [
      "<class 'int'>\n",
      "<class 'int'>\n",
      "<class 'bool'>\n",
      "None\n",
      "None\n",
      "None\n",
      "<class 'bool'>\n"
     ]
    }
   ],
   "source": [
    "import ast \n",
    "\n",
    "class infer_type(ast.NodeVisitor):\n",
    "    \n",
    "    def visit_Module(self, node):\n",
    "        results = [self.visit(s) for s in node.body]\n",
    "        if results == [int] or results == [bool]:\n",
    "            return results[0]\n",
    "\n",
    "    def visit_Expr(self, node):\n",
    "        return self.visit(node.value)\n",
    "\n",
    "    def visit_BoolOp(self, node):\n",
    "        if set([self.visit(v) for v in node.values]) == {bool}:\n",
    "            return bool\n",
    "\n",
    "    def visit_BinOp(self, node):\n",
    "        if type(node.op) in [ast.Add, ast.Sub, ast.Mult]:\n",
    "            if self.visit(node.left) is int and\\\n",
    "               self.visit(node.right) is int:\n",
    "                return int\n",
    "    \n",
    "    def visit_Compare(self, node):\n",
    "        if type(node.ops[0]) in [ast.Eq]:\n",
    "            if self.visit(node.left) is int and\\\n",
    "               self.visit(node.comparators[0]) is int:\n",
    "                return bool\n",
    "    \n",
    "    def visit_Num(self, node):\n",
    "        if type(node.n) is int:\n",
    "            return int\n",
    "    \n",
    "    def visit_NameConstant(self, node):\n",
    "        if node.value in [True, False]:\n",
    "            return bool\n",
    "    \n",
    "print(infer_type().visit(ast.parse('5')))\n",
    "print(infer_type().visit(ast.parse('5 + 5')))\n",
    "print(infer_type().visit(ast.parse('True and False')))\n",
    "print(infer_type().visit(ast.parse('False or 5')))\n",
    "print(infer_type().visit(ast.parse('False + True')))\n",
    "print(infer_type().visit(ast.parse('3 or 4 and 5')))\n",
    "print(infer_type().visit(ast.parse('3 == 5')))\n",
    "#print(infer_type().visit(ast.parse('5')))\n"
   ]
  },
  {
   "cell_type": "markdown",
   "metadata": {
    "slideshow": {
     "slide_type": "fragment"
    }
   },
   "source": [
    "<div style=\"background-color:#E1F8E1; padding:5px 8px 5px 8px;\">\n",
    "<a name=\"85feea29-7b81-4b58-bf08-bf8b0b2195e5\"></a>\n",
    "<b>Example [<a href=\"#85feea29-7b81-4b58-bf08-bf8b0b2195e5\">link</a>].</b> The static analysis algorithm below uses the <a href=\"https://www.sympy.org/en/index.html\">SymPy</a> library to build a polynomial that represents the number of digits in the integer represented by a Python expression. Notice that if the expression contains variables, the polynomial will have placeholders for the number of digits that the integer represented by the variable may have.\n",
    "</div>"
   ]
  },
  {
   "cell_type": "code",
   "execution_count": 46,
   "metadata": {
    "slideshow": {
     "slide_type": "fragment"
    }
   },
   "outputs": [
    {
     "data": {
      "text/latex": [
       "$\\displaystyle 2 x_{digits} + y_{digits} + 5$"
      ],
      "text/plain": [
       "2*x_digits + y_digits + 5"
      ]
     },
     "execution_count": 46,
     "metadata": {},
     "output_type": "execute_result"
    }
   ],
   "source": [
    "import ast\n",
    "from sympy import sympify, lambdify\n",
    "\n",
    "class infer_int_digits(ast.NodeVisitor):\n",
    "    \n",
    "    def visit_Module(self, node):\n",
    "        results = [self.visit(s) for s in node.body]\n",
    "        return results\n",
    "\n",
    "    def visit_Expr(self, node):\n",
    "        return self.visit(node.value)\n",
    "\n",
    "    def visit_BinOp(self, node):\n",
    "        if type(node.op) in [ast.Sub]:\n",
    "            e1 = self.visit(node.left)\n",
    "            e2 = self.visit(node.right)\n",
    "            return e1\n",
    "        elif type(node.op) in [ast.Mult]:\n",
    "            e1 = self.visit(node.left)\n",
    "            e2 = self.visit(node.right)\n",
    "            return e1 + e2 + 1\n",
    "\n",
    "    def visit_Name(self, node):\n",
    "        return sympify(node.id + \"_digits\")\n",
    "\n",
    "    def visit_Num(self, node):\n",
    "        if type(node.n) is int:\n",
    "            digits = len(str(node.n))\n",
    "            return sympify(str(digits))\n",
    "\n",
    "result = infer_int_digits().visit(ast.parse('x * x * 45 * y - z * 10000'))[0]\n",
    "f = lambdify('f', result)\n",
    "f((1,2))"
   ]
  },
  {
   "cell_type": "markdown",
   "metadata": {
    "slideshow": {
     "slide_type": "slide"
    }
   },
   "source": [
    "## Embedding Techniques for Transformations and Analyses"
   ]
  },
  {
   "cell_type": "markdown",
   "metadata": {
    "slideshow": {
     "slide_type": "slide"
    }
   },
   "source": [
    "Suppose we have assembled some formal definitions of an embedded language:\n",
    "\n",
    "* some BNF notation describing the subset of the syntax of our host language,\n",
    "* some inference rules for static analysis algorithms over that subset of the syntax, and\n",
    "* some inference rules for transformation algorithms over that subset of the syntax.\n",
    "\n",
    "How can we approach implementing these within the host language? We can use <i>reflection</i>."
   ]
  },
  {
   "cell_type": "markdown",
   "metadata": {
    "slideshow": {
     "slide_type": "fragment"
    }
   },
   "source": [
    "<div style=\"background-color:#F6F4D8; padding:5px 8px 5px 8px;\">\n",
    "<b>Definition.</b> The term <i>reflection</i> refers to the <i>native</i> (i.e., built-in) capability within a programming language to name, store, examine, modify, and create programs <i>written in that same language</i>.\n",
    "</div>"
   ]
  },
  {
   "cell_type": "markdown",
   "metadata": {
    "slideshow": {
     "slide_type": "slide"
    }
   },
   "source": [
    "We have already seen how the `inspect` and `ast` modules can enable reflection in Python. However, we may want to make it easy for programmers to utilize the algorithms we have defined over our embedded language. Python [decorators](https://www.python.org/dev/peps/pep-0318/) are one way to quickly build an API for our embedded language. One popular library that uses decorators to provide a convenient API is [Flask](https://en.wikipedia.org/wiki/Flask_(web_framework))."
   ]
  },
  {
   "cell_type": "code",
   "execution_count": 4,
   "metadata": {
    "slideshow": {
     "slide_type": "fragment"
    }
   },
   "outputs": [
    {
     "name": "stdout",
     "output_type": "stream",
     "text": [
      "The result is: 8\n"
     ]
    },
    {
     "data": {
      "text/plain": [
       "8"
      ]
     },
     "execution_count": 4,
     "metadata": {},
     "output_type": "execute_result"
    }
   ],
   "source": [
    "# Turns any function of one variable into a function \n",
    "# that returns the same result, but also displays it.\n",
    "def make_print(h):\n",
    "    def h_prints(x):\n",
    "        result = h(x)\n",
    "        print(\"The result is: \" + str(result))\n",
    "        return result\n",
    "    return h_prints\n",
    "\n",
    "@make_print\n",
    "def f(x):\n",
    "    return x + x\n",
    "\n",
    "f(4)"
   ]
  },
  {
   "cell_type": "code",
   "execution_count": 7,
   "metadata": {
    "slideshow": {
     "slide_type": "fragment"
    }
   },
   "outputs": [
    {
     "name": "stdout",
     "output_type": "stream",
     "text": [
      "The result is: 8\n"
     ]
    },
    {
     "data": {
      "text/plain": [
       "8"
      ]
     },
     "execution_count": 7,
     "metadata": {},
     "output_type": "execute_result"
    }
   ],
   "source": [
    "# This decorator takes an argument (in other words,\n",
    "# it is a function that returns a decorator).\n",
    "def make_print_decorator(message):\n",
    "    def decorator(h):\n",
    "        def h_prints(x):\n",
    "            result = h(x)\n",
    "            print(message + \": \" + str(result))\n",
    "            return result\n",
    "        return h_prints\n",
    "    return decorator\n",
    "\n",
    "@make_print_decorator(\"The result is\")\n",
    "def f(x):\n",
    "    return x + x\n",
    "\n",
    "f(4)"
   ]
  },
  {
   "cell_type": "code",
   "execution_count": 10,
   "metadata": {
    "slideshow": {
     "slide_type": "fragment"
    }
   },
   "outputs": [
    {
     "name": "stdout",
     "output_type": "stream",
     "text": [
      "Module(body=[FunctionDef(name='h', args=arguments(args=[arg(arg='x', annotation=None)], vararg=None, kwonlyargs=[], kw_defaults=[], kwarg=None, defaults=[]), body=[Return(value=BinOp(left=Num(n=3), op=Add(), right=Name(id='x', ctx=Load())))], decorator_list=[Call(func=Name(id='print_source_opt', ctx=Load()), args=[NameConstant(value=True)], keywords=[])], returns=None)])\n"
     ]
    }
   ],
   "source": [
    "import inspect\n",
    "import ast\n",
    "\n",
    "# Decorator that prints the source code of\n",
    "# the function that it decorates.\n",
    "def print_source_opt(visible = True):\n",
    "    if not visible:\n",
    "        return lambda f: f\n",
    "    else:\n",
    "        def print_source(f):\n",
    "            a = ast.parse(inspect.getsource(f))\n",
    "            print(ast.dump(a))\n",
    "            return f\n",
    "        return print_source\n",
    "\n",
    "# This will not print anything.\n",
    "@print_source_opt(False)\n",
    "def g(x):\n",
    "    return 2 * x\n",
    "\n",
    "# This will print the AST.\n",
    "@print_source_opt(True)\n",
    "def h(x):\n",
    "    return 3 + x\n",
    "   "
   ]
  },
  {
   "cell_type": "code",
   "execution_count": 33,
   "metadata": {
    "slideshow": {
     "slide_type": "fragment"
    }
   },
   "outputs": [
    {
     "name": "stdout",
     "output_type": "stream",
     "text": [
      "Module(body=[FunctionDef(name='h', args=arguments(args=[arg(arg='x', annotation=None)], vararg=None, kwonlyargs=[], kw_defaults=[], kwarg=None, defaults=[]), body=[Return(value=BinOp(left=Num(n=3), op=Add(), right=Name(id='x', ctx=Load())))], decorator_list=[Call(func=Name(id='print_source_opt', ctx=Load()), args=[NameConstant(value=True)], keywords=[])], returns=None)])\n"
     ]
    }
   ],
   "source": [
    "import inspect\n",
    "import ast\n",
    "\n",
    "# Decorator that prints the source code of\n",
    "# the function that it decorates.\n",
    "def print_source_opt(visible = True):\n",
    "    if not visible:\n",
    "        return lambda f: f\n",
    "    else:\n",
    "        def print_source(f):\n",
    "            a = ast.parse(inspect.getsource(f))\n",
    "            print(ast.dump(a))\n",
    "            return f\n",
    "        return print_source\n",
    "\n",
    "# This will not print anything.\n",
    "@print_source_opt(False)\n",
    "def g(x):\n",
    "    return 2 * x\n",
    "\n",
    "# This will print the AST.\n",
    "@print_source_opt(True)\n",
    "def h(x):\n",
    "    return 3 + x\n",
    "   "
   ]
  },
  {
   "cell_type": "markdown",
   "metadata": {
    "slideshow": {
     "slide_type": "fragment"
    }
   },
   "source": [
    "This is the end of the document."
   ]
  }
 ],
 "metadata": {
  "anaconda-cloud": {},
  "celltoolbar": "Slideshow",
  "kernelspec": {
   "display_name": "Python 3",
   "language": "python",
   "name": "python3"
  },
  "language_info": {
   "codemirror_mode": {
    "name": "ipython",
    "version": 3
   },
   "file_extension": ".py",
   "mimetype": "text/x-python",
   "name": "python",
   "nbconvert_exporter": "python",
   "pygments_lexer": "ipython3",
   "version": "3.6.4"
  },
  "livereveal": {
   "scroll": true
  }
 },
 "nbformat": 4,
 "nbformat_minor": 1
}
