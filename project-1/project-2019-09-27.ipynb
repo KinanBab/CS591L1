{
 "cells": [
  {
   "cell_type": "markdown",
   "metadata": {},
   "source": [
    "#  <span style=\"text-decoration:underline;\">Project 1</span>: Practice with Embedded Languages"
   ]
  },
  {
   "cell_type": "markdown",
   "metadata": {},
   "source": [
    "## Introduction "
   ]
  },
  {
   "cell_type": "markdown",
   "metadata": {},
   "source": [
    "The purpose of this project is to become familiar with concepts and techniques associated with embedded languages: concrete and abstract syntaxes, parsing within a host language, semantics, transformations, and static analysis."
   ]
  },
  {
   "cell_type": "markdown",
   "metadata": {},
   "source": [
    "## Submission "
   ]
  },
  {
   "cell_type": "markdown",
   "metadata": {},
   "source": [
    "Please send by email to lapets@bu.edu a link to the GitHub repository for your project. Ensure that the GitHub account `lapets` has the appropriate permissions to view and clone your repository."
   ]
  },
  {
   "cell_type": "markdown",
   "metadata": {},
   "source": [
    "## Description"
   ]
  },
  {
   "cell_type": "markdown",
   "metadata": {},
   "source": [
    "**Goals**\n",
    "\n",
    "The goal of this project is to choose an existing library, framework, or collection of language features within a popular programming language (such as Python or JavaScript), to identify a subset of the programming language that includes these features as an embedded language, and to implement multiple components that act as useful features for a programmer interested in using this embedded language for some purpose."
   ]
  },
  {
   "cell_type": "markdown",
   "metadata": {},
   "source": [
    "## Requirements"
   ]
  },
  {
   "cell_type": "markdown",
   "metadata": {},
   "source": [
    "**Organization and Documentation**\n",
    "* Include a README file or Jupyter Notebook document within the root directory of your submission.\n",
    "* Include in the README file/document a one-paragraph overview (5-7 sentences at least) describing the goal of your project and your approach. Include references to relevant concepts and terminology from the course as appropriate when describing your project."
   ]
  },
  {
   "cell_type": "markdown",
   "metadata": {},
   "source": [
    "**Technical Requirements**\n",
    "1. Identify and define using BNF notation the subset of the host language syntax corresponding to the embedded language that you will be processing, analyzing, or transforming.\n",
    "  * The language should contain at least 10-20 constructs (typically, each construct will correspond to one case within a production rule in the BNF notation defining the grammar of the language).\n",
    "  * The language should support some family of methods or operators that can appear in expressions (also 10-20).\n",
    "2. Implement a way to automatically check that a module or function that represents a program within the embedded language conforms to the syntax of the language.\n",
    "3. Implement two additional non-trivial algorithms (each algorithm can be an interpretation, a static analysis, an optimization, or some other transformation) that operate on programs within the embedded language.\n",
    "  * For every transformation you choose to implement, that transformation should alter or transform the abstract syntax trees in a noticeable way.\n",
    "  * For every analysis algorithm you choose to implement, the analysis should determine some property or compute some metric of the program that the input AST represents."
   ]
  },
  {
   "cell_type": "markdown",
   "metadata": {},
   "source": [
    "## Project Ideas"
   ]
  },
  {
   "cell_type": "markdown",
   "metadata": {},
   "source": [
    "Below are some high-level descriptions of ideas that are suitable for a project.\n",
    "\n",
    "1. Statically determine (i.e., without running the code) how much memory a [pandas](https://pandas.pydata.org/) dataframe workflow will use if it is actually executed. Metrics other than memory (e.g., the maximum size of any dataframe in the workflow) are also an option.\n",
    "2. Detect common security vulnerabilities that arise from unsafe use of `eval()` within a [Flask](https://www.fullstackpython.com/flask.html) app.\n",
    "3. Analyze programs that use an Amazon Web Services API wrapper library such as [boto](http://boto.cloudhackers.com/en/latest/#) to measure upper bounds on storage, data traffic, or cost.\n",
    "4. Transpiling between different versions of a library (e.g., changing deprecated or obsolete features into supported ones).\n",
    "5. Statically analyzing numerical program to give upper bounds on the float-point errors [[1]](http://elina.ethz.ch/papers/PLDI15-Octagon.pdf), [[2]](http://www.lix.polytechnique.fr/Labo/Sylvie.Putot/Publications/NotesCoursDigicosme.pdf), [[3]](http://www.lix.polytechnique.fr/~putot/Publications/sas06.pdf)."
   ]
  }
 ],
 "metadata": {
  "anaconda-cloud": {},
  "kernelspec": {
   "display_name": "Python 3",
   "language": "python",
   "name": "python3"
  },
  "language_info": {
   "codemirror_mode": {
    "name": "ipython",
    "version": 3
   },
   "file_extension": ".py",
   "mimetype": "text/x-python",
   "name": "python",
   "nbconvert_exporter": "python",
   "pygments_lexer": "ipython3",
   "version": "3.6.4"
  }
 },
 "nbformat": 4,
 "nbformat_minor": 1
}
