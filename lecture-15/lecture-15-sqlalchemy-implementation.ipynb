{
 "cells": [
  {
   "cell_type": "markdown",
   "metadata": {},
   "source": [
    "# Overview\n",
    "\n",
    "These notes are a continouation of the previous set of notes. We will go through some more advanced usage of SQLAlchemy, including mass insertion, and advanced query features. We will then look under the hood for some details on how SQLAlchemy's features are implemented, using interesting programming and embedding techniques.\n",
    "\n",
    "# Music Library Example\n",
    "\n",
    "Our running example will be a database made out of Artists and Albums. We define the schema below."
   ]
  },
  {
   "cell_type": "code",
   "execution_count": 24,
   "metadata": {},
   "outputs": [
    {
     "name": "stdout",
     "output_type": "stream",
     "text": [
      "2019-11-14 08:48:52,665 INFO sqlalchemy.engine.base.Engine SELECT CAST('test plain returns' AS VARCHAR(60)) AS anon_1\n",
      "2019-11-14 08:48:52,666 INFO sqlalchemy.engine.base.Engine ()\n",
      "2019-11-14 08:48:52,667 INFO sqlalchemy.engine.base.Engine SELECT CAST('test unicode returns' AS VARCHAR(60)) AS anon_1\n",
      "2019-11-14 08:48:52,667 INFO sqlalchemy.engine.base.Engine ()\n",
      "2019-11-14 08:48:52,668 INFO sqlalchemy.engine.base.Engine PRAGMA main.table_info(\"albums\")\n",
      "2019-11-14 08:48:52,668 INFO sqlalchemy.engine.base.Engine ()\n",
      "2019-11-14 08:48:52,668 INFO sqlalchemy.engine.base.Engine PRAGMA temp.table_info(\"albums\")\n",
      "2019-11-14 08:48:52,669 INFO sqlalchemy.engine.base.Engine ()\n",
      "2019-11-14 08:48:52,669 INFO sqlalchemy.engine.base.Engine PRAGMA main.table_info(\"artists\")\n",
      "2019-11-14 08:48:52,670 INFO sqlalchemy.engine.base.Engine ()\n",
      "2019-11-14 08:48:52,670 INFO sqlalchemy.engine.base.Engine PRAGMA temp.table_info(\"artists\")\n",
      "2019-11-14 08:48:52,671 INFO sqlalchemy.engine.base.Engine ()\n",
      "2019-11-14 08:48:52,672 INFO sqlalchemy.engine.base.Engine \n",
      "CREATE TABLE artists (\n",
      "\tid INTEGER NOT NULL, \n",
      "\tname VARCHAR NOT NULL, \n",
      "\tyear INTEGER, \n",
      "\tPRIMARY KEY (id), \n",
      "\tUNIQUE (name)\n",
      ")\n",
      "\n",
      "\n",
      "2019-11-14 08:48:52,672 INFO sqlalchemy.engine.base.Engine ()\n",
      "2019-11-14 08:48:52,673 INFO sqlalchemy.engine.base.Engine COMMIT\n",
      "2019-11-14 08:48:52,673 INFO sqlalchemy.engine.base.Engine \n",
      "CREATE TABLE albums (\n",
      "\tid INTEGER NOT NULL, \n",
      "\tname VARCHAR NOT NULL, \n",
      "\ttracks INTEGER NOT NULL, \n",
      "\tartist_id INTEGER NOT NULL, \n",
      "\tPRIMARY KEY (id), \n",
      "\tFOREIGN KEY(artist_id) REFERENCES artists (id)\n",
      ")\n",
      "\n",
      "\n",
      "2019-11-14 08:48:52,674 INFO sqlalchemy.engine.base.Engine ()\n",
      "2019-11-14 08:48:52,674 INFO sqlalchemy.engine.base.Engine COMMIT\n"
     ]
    }
   ],
   "source": [
    "from sqlalchemy import create_engine, Column, Integer, String, ForeignKey\n",
    "from sqlalchemy.ext.declarative import declarative_base\n",
    "from sqlalchemy.orm import validates, relationship\n",
    "\n",
    "import math\n",
    "\n",
    "engine = create_engine('sqlite:///:memory:', echo=True)\n",
    "Base = declarative_base()\n",
    "\n",
    "class Artist(Base):\n",
    "    __tablename__ = 'artists' # the actual name in the DB\n",
    "\n",
    "    id = Column(Integer, primary_key=True)\n",
    "    name = Column(String, unique=True, nullable=False)\n",
    "    year = Column(Integer)\n",
    "\n",
    "    @validates('year')\n",
    "    def year_is_valid(self, key, year):\n",
    "        year = math.floor(year)\n",
    "        if year < 1950 or year > 2019:\n",
    "            raise ValueError('Illegal year!')\n",
    "        return year\n",
    "    \n",
    "    def __repr__(self): # python side\n",
    "        return \"<Artist(id={}, name='{}', year={}>\".format(self.id, self.name, self.year)\n",
    "\n",
    "class Album(Base):\n",
    "    __tablename__ = 'albums'\n",
    "\n",
    "    id = Column(Integer, primary_key=True)\n",
    "    name = Column(String, nullable=False)\n",
    "    tracks = Column(Integer, nullable=False)\n",
    "\n",
    "    artist_id = Column(Integer, ForeignKey(Artist.id), nullable=False)\n",
    "    artist = relationship('Artist', backref='albums', lazy='joined')\n",
    "\n",
    "    def __repr__(self):\n",
    "        return \"<Album(id={}, name={}, #tracks={}, artist={})\".format(\n",
    "            self.id, self.name, self.tracks, self.artist.name)\n",
    "\n",
    "Base.metadata.create_all(engine)"
   ]
  },
  {
   "cell_type": "markdown",
   "metadata": {},
   "source": [
    "## Inserting Data\n",
    "\n",
    "Now, we will insert data into our database. A common technique is to read data from a csv or JSON file and insert it into DB. Sometimes, or to scrape data online or acquire it from other databases. Here, we will start with some JSON dump of the data."
   ]
  },
  {
   "cell_type": "code",
   "execution_count": 2,
   "metadata": {},
   "outputs": [],
   "source": [
    "json_str = '''[\n",
    "    {\"type\": \"artist\", \"content\": {\"name\": \"Lynyrd Skynyrd\", \"year\": 1964}},\n",
    "    {\"type\": \"artist\", \"content\": {\"name\": \"Led Zeppelin\", \"year\": 1968}},\n",
    "    {\"type\": \"artist\", \"content\": {\"name\": \"Metallica\", \"year\": 1981}},\n",
    "    {\"type\": \"artist\", \"content\": {\"name\": \"Slayer\", \"year\": 1981}},\n",
    "    {\"type\": \"artist\", \"content\": {\"name\": \"Pantera\", \"year\": 1981}},\n",
    "    {\"type\": \"artist\", \"content\": {\"name\": \"Pearl Jam\"}},\n",
    "    {\"type\": \"artist\", \"content\": {\"name\": \"Tool\"}},\n",
    "    {\"type\": \"album\", \"content\": {\"name\": \"Master of Puppets\", \"artist\": \"Metallica\", \"tracks\": 8}},\n",
    "    {\"type\": \"album\", \"content\": {\"name\": \"...And Justice for All\", \"artist\": \"Metallica\", \"tracks\": 9}},\n",
    "    {\"type\": \"album\", \"content\": {\"name\": \"Fear Inoculumn\", \"artist\": \"Tool\", \"tracks\": 10}},\n",
    "    {\"type\": \"album\", \"content\": {\"name\": \"Seasons in the Abyss\", \"artist\": \"Slayer\", \"tracks\": 10}},\n",
    "    {\"type\": \"album\", \"content\": {\"name\": \"Hell Awaits\", \"artist\": \"Slayer\", \"tracks\": 7}},\n",
    "    {\"type\": \"album\", \"content\": {\"name\": \"Far Beyond Driven\", \"artist\": \"Pantera\"}}\n",
    "]'''"
   ]
  },
  {
   "cell_type": "markdown",
   "metadata": {},
   "source": [
    "Our JSON data contains many artists and bands. However, our data is not clean. Some artists are missing their year of formation, some albums may be missing the number of tracks. If an artist fails to be inserted, we want all its albums not to be inserted. However, if an album fails, this should not affect other albums or the artist.\n",
    "\n",
    "We can achieve this via committing every entry independently, starting with bands first. More complicated conditions can be implemented using subtransactions."
   ]
  },
  {
   "cell_type": "code",
   "execution_count": 3,
   "metadata": {},
   "outputs": [
    {
     "name": "stdout",
     "output_type": "stream",
     "text": [
      "2019-11-14 08:36:17,374 INFO sqlalchemy.engine.base.Engine BEGIN (implicit)\n",
      "2019-11-14 08:36:17,378 INFO sqlalchemy.engine.base.Engine INSERT INTO artists (name, year) VALUES (?, ?)\n",
      "2019-11-14 08:36:17,379 INFO sqlalchemy.engine.base.Engine ('Lynyrd Skynyrd', 1964)\n",
      "2019-11-14 08:36:17,384 INFO sqlalchemy.engine.base.Engine COMMIT\n",
      "2019-11-14 08:36:17,387 INFO sqlalchemy.engine.base.Engine BEGIN (implicit)\n",
      "2019-11-14 08:36:17,390 INFO sqlalchemy.engine.base.Engine INSERT INTO artists (name, year) VALUES (?, ?)\n",
      "2019-11-14 08:36:17,392 INFO sqlalchemy.engine.base.Engine ('Led Zeppelin', 1968)\n",
      "2019-11-14 08:36:17,395 INFO sqlalchemy.engine.base.Engine COMMIT\n",
      "2019-11-14 08:36:17,400 INFO sqlalchemy.engine.base.Engine BEGIN (implicit)\n",
      "2019-11-14 08:36:17,401 INFO sqlalchemy.engine.base.Engine INSERT INTO artists (name, year) VALUES (?, ?)\n",
      "2019-11-14 08:36:17,402 INFO sqlalchemy.engine.base.Engine ('Metallica', 1981)\n",
      "2019-11-14 08:36:17,405 INFO sqlalchemy.engine.base.Engine COMMIT\n",
      "2019-11-14 08:36:17,407 INFO sqlalchemy.engine.base.Engine BEGIN (implicit)\n",
      "2019-11-14 08:36:17,408 INFO sqlalchemy.engine.base.Engine INSERT INTO artists (name, year) VALUES (?, ?)\n",
      "2019-11-14 08:36:17,409 INFO sqlalchemy.engine.base.Engine ('Slayer', 1981)\n",
      "2019-11-14 08:36:17,411 INFO sqlalchemy.engine.base.Engine COMMIT\n",
      "2019-11-14 08:36:17,412 INFO sqlalchemy.engine.base.Engine BEGIN (implicit)\n",
      "2019-11-14 08:36:17,413 INFO sqlalchemy.engine.base.Engine INSERT INTO artists (name, year) VALUES (?, ?)\n",
      "2019-11-14 08:36:17,413 INFO sqlalchemy.engine.base.Engine ('Pantera', 1981)\n",
      "2019-11-14 08:36:17,415 INFO sqlalchemy.engine.base.Engine COMMIT\n",
      "2019-11-14 08:36:17,417 INFO sqlalchemy.engine.base.Engine BEGIN (implicit)\n",
      "2019-11-14 08:36:17,418 INFO sqlalchemy.engine.base.Engine INSERT INTO artists (name, year) VALUES (?, ?)\n",
      "2019-11-14 08:36:17,419 INFO sqlalchemy.engine.base.Engine ('Pearl Jam', None)\n",
      "2019-11-14 08:36:17,420 INFO sqlalchemy.engine.base.Engine COMMIT\n",
      "2019-11-14 08:36:17,421 INFO sqlalchemy.engine.base.Engine BEGIN (implicit)\n",
      "2019-11-14 08:36:17,422 INFO sqlalchemy.engine.base.Engine INSERT INTO artists (name, year) VALUES (?, ?)\n",
      "2019-11-14 08:36:17,423 INFO sqlalchemy.engine.base.Engine ('Tool', None)\n",
      "2019-11-14 08:36:17,424 INFO sqlalchemy.engine.base.Engine COMMIT\n",
      "2019-11-14 08:36:17,426 INFO sqlalchemy.engine.base.Engine BEGIN (implicit)\n",
      "2019-11-14 08:36:17,427 INFO sqlalchemy.engine.base.Engine SELECT artists.id AS artists_id, artists.name AS artists_name, artists.year AS artists_year \n",
      "FROM artists \n",
      "WHERE artists.id = ?\n",
      "2019-11-14 08:36:17,428 INFO sqlalchemy.engine.base.Engine (3,)\n",
      "2019-11-14 08:36:17,430 INFO sqlalchemy.engine.base.Engine INSERT INTO albums (name, tracks, artist_id) VALUES (?, ?, ?)\n",
      "2019-11-14 08:36:17,430 INFO sqlalchemy.engine.base.Engine ('Master of Puppets', 8, 3)\n",
      "2019-11-14 08:36:17,431 INFO sqlalchemy.engine.base.Engine COMMIT\n",
      "2019-11-14 08:36:17,432 INFO sqlalchemy.engine.base.Engine BEGIN (implicit)\n",
      "2019-11-14 08:36:17,433 INFO sqlalchemy.engine.base.Engine SELECT artists.id AS artists_id, artists.name AS artists_name, artists.year AS artists_year \n",
      "FROM artists \n",
      "WHERE artists.id = ?\n",
      "2019-11-14 08:36:17,433 INFO sqlalchemy.engine.base.Engine (3,)\n",
      "2019-11-14 08:36:17,434 INFO sqlalchemy.engine.base.Engine INSERT INTO albums (name, tracks, artist_id) VALUES (?, ?, ?)\n",
      "2019-11-14 08:36:17,435 INFO sqlalchemy.engine.base.Engine ('...And Justice for All', 9, 3)\n",
      "2019-11-14 08:36:17,436 INFO sqlalchemy.engine.base.Engine COMMIT\n",
      "2019-11-14 08:36:17,438 INFO sqlalchemy.engine.base.Engine BEGIN (implicit)\n",
      "2019-11-14 08:36:17,439 INFO sqlalchemy.engine.base.Engine SELECT artists.id AS artists_id, artists.name AS artists_name, artists.year AS artists_year \n",
      "FROM artists \n",
      "WHERE artists.id = ?\n",
      "2019-11-14 08:36:17,439 INFO sqlalchemy.engine.base.Engine (7,)\n",
      "2019-11-14 08:36:17,441 INFO sqlalchemy.engine.base.Engine INSERT INTO albums (name, tracks, artist_id) VALUES (?, ?, ?)\n",
      "2019-11-14 08:36:17,441 INFO sqlalchemy.engine.base.Engine ('Fear Inoculumn', 10, 7)\n",
      "2019-11-14 08:36:17,443 INFO sqlalchemy.engine.base.Engine COMMIT\n",
      "2019-11-14 08:36:17,444 INFO sqlalchemy.engine.base.Engine BEGIN (implicit)\n",
      "2019-11-14 08:36:17,445 INFO sqlalchemy.engine.base.Engine SELECT artists.id AS artists_id, artists.name AS artists_name, artists.year AS artists_year \n",
      "FROM artists \n",
      "WHERE artists.id = ?\n",
      "2019-11-14 08:36:17,445 INFO sqlalchemy.engine.base.Engine (4,)\n",
      "2019-11-14 08:36:17,447 INFO sqlalchemy.engine.base.Engine INSERT INTO albums (name, tracks, artist_id) VALUES (?, ?, ?)\n",
      "2019-11-14 08:36:17,447 INFO sqlalchemy.engine.base.Engine ('Seasons in the Abyss', 10, 4)\n",
      "2019-11-14 08:36:17,448 INFO sqlalchemy.engine.base.Engine COMMIT\n",
      "2019-11-14 08:36:17,449 INFO sqlalchemy.engine.base.Engine BEGIN (implicit)\n",
      "2019-11-14 08:36:17,450 INFO sqlalchemy.engine.base.Engine SELECT artists.id AS artists_id, artists.name AS artists_name, artists.year AS artists_year \n",
      "FROM artists \n",
      "WHERE artists.id = ?\n",
      "2019-11-14 08:36:17,451 INFO sqlalchemy.engine.base.Engine (4,)\n",
      "2019-11-14 08:36:17,452 INFO sqlalchemy.engine.base.Engine INSERT INTO albums (name, tracks, artist_id) VALUES (?, ?, ?)\n",
      "2019-11-14 08:36:17,453 INFO sqlalchemy.engine.base.Engine ('Hell Awaits', 7, 4)\n",
      "2019-11-14 08:36:17,454 INFO sqlalchemy.engine.base.Engine COMMIT\n",
      "2019-11-14 08:36:17,455 INFO sqlalchemy.engine.base.Engine BEGIN (implicit)\n",
      "2019-11-14 08:36:17,456 INFO sqlalchemy.engine.base.Engine SELECT artists.id AS artists_id, artists.name AS artists_name, artists.year AS artists_year \n",
      "FROM artists \n",
      "WHERE artists.id = ?\n",
      "2019-11-14 08:36:17,457 INFO sqlalchemy.engine.base.Engine (5,)\n",
      "2019-11-14 08:36:17,458 INFO sqlalchemy.engine.base.Engine INSERT INTO albums (name, tracks, artist_id) VALUES (?, ?, ?)\n",
      "2019-11-14 08:36:17,458 INFO sqlalchemy.engine.base.Engine ('Far Beyond Driven', None, 5)\n",
      "2019-11-14 08:36:17,460 INFO sqlalchemy.engine.base.Engine ROLLBACK\n",
      "\n",
      " (sqlite3.IntegrityError) NOT NULL constraint failed: albums.tracks\n",
      "[SQL: INSERT INTO albums (name, tracks, artist_id) VALUES (?, ?, ?)]\n",
      "[parameters: ('Far Beyond Driven', None, 5)]\n",
      "(Background on this error at: http://sqlalche.me/e/gkpj) \n",
      "\n",
      "2019-11-14 08:36:17,461 INFO sqlalchemy.engine.base.Engine BEGIN (implicit)\n",
      "2019-11-14 08:36:17,462 INFO sqlalchemy.engine.base.Engine SELECT artists.id AS artists_id, artists.name AS artists_name, artists.year AS artists_year \n",
      "FROM artists\n",
      "2019-11-14 08:36:17,462 INFO sqlalchemy.engine.base.Engine ()\n",
      "\n",
      " [<Artist(id=1, name='Lynyrd Skynyrd', year=>, <Artist(id=2, name='Led Zeppelin', year=>, <Artist(id=3, name='Metallica', year=>, <Artist(id=4, name='Slayer', year=>, <Artist(id=5, name='Pantera', year=>, <Artist(id=6, name='Pearl Jam', year=>, <Artist(id=7, name='Tool', year=>] \n",
      "\n",
      "2019-11-14 08:36:17,466 INFO sqlalchemy.engine.base.Engine SELECT albums.id AS albums_id, albums.name AS albums_name, albums.tracks AS albums_tracks, albums.artist_id AS albums_artist_id, artists_1.id AS artists_1_id, artists_1.name AS artists_1_name, artists_1.year AS artists_1_year \n",
      "FROM albums LEFT OUTER JOIN artists AS artists_1 ON artists_1.id = albums.artist_id\n",
      "2019-11-14 08:36:17,467 INFO sqlalchemy.engine.base.Engine ()\n",
      "[<Album(id=1, name=Master of Puppets, #tracks=8, artist=Metallica), <Album(id=2, name=...And Justice for All, #tracks=9, artist=Metallica), <Album(id=3, name=Fear Inoculumn, #tracks=10, artist=Tool), <Album(id=4, name=Seasons in the Abyss, #tracks=10, artist=Slayer), <Album(id=5, name=Hell Awaits, #tracks=7, artist=Slayer)]\n"
     ]
    }
   ],
   "source": [
    "import json\n",
    "\n",
    "from sqlalchemy.orm import sessionmaker\n",
    "SessionMaker = sessionmaker(bind=engine)\n",
    "\n",
    "session = SessionMaker()\n",
    "\n",
    "data = json.loads(json_str)\n",
    "artists = {}\n",
    "for entry in data:\n",
    "    if entry['type'] == 'artist':\n",
    "        artist = Artist(**entry['content'])\n",
    "        artists[entry['content']['name']] = artist\n",
    "        session.add(artist)\n",
    "        try:\n",
    "            session.commit()\n",
    "        except Exception as e:\n",
    "            print('\\n', e, '\\n')\n",
    "            \n",
    "            del artists[entry['content']['name']]\n",
    "            session.rollback()\n",
    "\n",
    "for entry in data:\n",
    "    if entry['type'] == 'album':\n",
    "        artist = entry['content']['artist']\n",
    "        del entry['content']['artist']\n",
    "        \n",
    "        album = Album(**entry['content'])\n",
    "        if artist in artists:\n",
    "            album.artist = artists[artist]\n",
    "            session.add(album)\n",
    "            try:\n",
    "                session.commit()\n",
    "            except Exception as e:\n",
    "                print('\\n', e, '\\n')\n",
    "                session.rollback\n",
    "\n",
    "session = SessionMaker()\n",
    "print('\\n', session.query(Artist).all(), '\\n')\n",
    "print(session.query(Album).all())"
   ]
  },
  {
   "cell_type": "markdown",
   "metadata": {},
   "source": [
    "## Advanced Queries\n",
    "\n",
    "We will make several queries that attempt to cover a variety of useful SQL features, including group by, aggregation, ordering, and limits.\n",
    "\n",
    "### All Artists with Albums"
   ]
  },
  {
   "cell_type": "code",
   "execution_count": 4,
   "metadata": {},
   "outputs": [
    {
     "name": "stdout",
     "output_type": "stream",
     "text": [
      "2019-11-14 08:36:17,475 INFO sqlalchemy.engine.base.Engine BEGIN (implicit)\n",
      "2019-11-14 08:36:17,476 INFO sqlalchemy.engine.base.Engine SELECT artists.id AS artists_id, artists.name AS artists_name, artists.year AS artists_year \n",
      "FROM artists \n",
      "WHERE EXISTS (SELECT 1 \n",
      "FROM albums \n",
      "WHERE artists.id = albums.artist_id)\n",
      "2019-11-14 08:36:17,476 INFO sqlalchemy.engine.base.Engine ()\n",
      "2019-11-14 08:36:17,478 INFO sqlalchemy.engine.base.Engine SELECT albums.id AS albums_id, albums.name AS albums_name, albums.tracks AS albums_tracks, albums.artist_id AS albums_artist_id \n",
      "FROM albums \n",
      "WHERE ? = albums.artist_id\n",
      "2019-11-14 08:36:17,478 INFO sqlalchemy.engine.base.Engine (3,)\n",
      "\n",
      " <Artist(id=3, name='Metallica', year=> [<Album(id=1, name=Master of Puppets, #tracks=8, artist=Metallica), <Album(id=2, name=...And Justice for All, #tracks=9, artist=Metallica)] \n",
      "\n",
      "2019-11-14 08:36:17,480 INFO sqlalchemy.engine.base.Engine SELECT albums.id AS albums_id, albums.name AS albums_name, albums.tracks AS albums_tracks, albums.artist_id AS albums_artist_id \n",
      "FROM albums \n",
      "WHERE ? = albums.artist_id\n",
      "2019-11-14 08:36:17,480 INFO sqlalchemy.engine.base.Engine (4,)\n",
      "\n",
      " <Artist(id=4, name='Slayer', year=> [<Album(id=4, name=Seasons in the Abyss, #tracks=10, artist=Slayer), <Album(id=5, name=Hell Awaits, #tracks=7, artist=Slayer)] \n",
      "\n",
      "2019-11-14 08:36:17,481 INFO sqlalchemy.engine.base.Engine SELECT albums.id AS albums_id, albums.name AS albums_name, albums.tracks AS albums_tracks, albums.artist_id AS albums_artist_id \n",
      "FROM albums \n",
      "WHERE ? = albums.artist_id\n",
      "2019-11-14 08:36:17,482 INFO sqlalchemy.engine.base.Engine (7,)\n",
      "\n",
      " <Artist(id=7, name='Tool', year=> [<Album(id=3, name=Fear Inoculumn, #tracks=10, artist=Tool)] \n",
      "\n"
     ]
    }
   ],
   "source": [
    "from sqlalchemy import func\n",
    "\n",
    "session = SessionMaker()\n",
    "\n",
    "artists = session.query(Artist).filter(Artist.albums.any()).all()\n",
    "for artist in artists:\n",
    "    print('\\n', artist, artist.albums, '\\n')"
   ]
  },
  {
   "cell_type": "markdown",
   "metadata": {},
   "source": [
    "### Artists With At Least Two Albums"
   ]
  },
  {
   "cell_type": "code",
   "execution_count": 34,
   "metadata": {},
   "outputs": [
    {
     "name": "stdout",
     "output_type": "stream",
     "text": [
      "query 1\n",
      "2019-11-14 08:51:56,998 INFO sqlalchemy.engine.base.Engine BEGIN (implicit)\n",
      "2019-11-14 08:51:57,002 INFO sqlalchemy.engine.base.Engine SELECT artists.id AS artists_id, artists.name AS artists_name, artists.year AS artists_year, count(albums.id) AS count \n",
      "FROM artists JOIN albums ON artists.id = albums.artist_id GROUP BY artists.id \n",
      "HAVING count > 1\n",
      "2019-11-14 08:51:57,004 INFO sqlalchemy.engine.base.Engine ()\n",
      "<Artist(id=3, name='Metallica', year=1981> 2\n",
      "<Artist(id=4, name='Slayer', year=1981> 2\n",
      "\n",
      "query 2\n",
      "2019-11-14 08:51:57,011 INFO sqlalchemy.engine.base.Engine SELECT artists.id AS artists_id, artists.name AS artists_name, artists.year AS artists_year, count(albums.id) AS count \n",
      "FROM artists JOIN albums ON artists.id = albums.artist_id GROUP BY artists.id \n",
      "HAVING count(albums.id) > ?\n",
      "2019-11-14 08:51:57,012 INFO sqlalchemy.engine.base.Engine (1,)\n",
      "<Artist(id=3, name='Metallica', year=1981> 2\n",
      "<Artist(id=4, name='Slayer', year=1981> 2\n"
     ]
    }
   ],
   "source": [
    "from sqlalchemy import func, text\n",
    "\n",
    "session = SessionMaker()\n",
    "\n",
    "# This is not recommended, because it uses SQL as a string\n",
    "print('query 1')\n",
    "query = session.query(Artist, func.count(Album.id).label('count')).join(Album).group_by(Artist.id)\n",
    "query = query.having(text('count > 1'))\n",
    "artists = query.all()\n",
    "for (artist, count) in artists:\n",
    "    print(artist, count)\n",
    "\n",
    "# A bit better\n",
    "print('\\nquery 2')\n",
    "count = func.count(Album.id).label('count')\n",
    "query = session.query(Artist, count).join(Album).group_by(Artist.id).having(count > 1)\n",
    "for (artist, count) in query.all():\n",
    "    print(artist, count)"
   ]
  },
  {
   "cell_type": "markdown",
   "metadata": {},
   "source": [
    "### Get The Two Bands With The Most Number of Tracks"
   ]
  },
  {
   "cell_type": "code",
   "execution_count": 36,
   "metadata": {},
   "outputs": [
    {
     "name": "stdout",
     "output_type": "stream",
     "text": [
      "2019-11-14 08:54:31,257 INFO sqlalchemy.engine.base.Engine BEGIN (implicit)\n",
      "2019-11-14 08:54:31,261 INFO sqlalchemy.engine.base.Engine SELECT artists.id AS artists_id, artists.name AS artists_name, artists.year AS artists_year, sum(albums.tracks) AS tracks \n",
      "FROM artists JOIN albums ON artists.id = albums.artist_id GROUP BY artists.id ORDER BY tracks DESC\n",
      " LIMIT ? OFFSET ?\n",
      "2019-11-14 08:54:31,262 INFO sqlalchemy.engine.base.Engine (2, 0)\n",
      "<Artist(id=3, name='Metallica', year=1981> 17\n",
      "<Artist(id=4, name='Slayer', year=1981> 17\n"
     ]
    }
   ],
   "source": [
    "session = SessionMaker()\n",
    "\n",
    "tracks = func.sum(Album.tracks).label('tracks')\n",
    "query = session.query(Artist, tracks).join(Album)\n",
    "query = query.group_by(Artist.id)\n",
    "query = query.order_by(tracks.desc())\n",
    "query = query.limit(2)\n",
    "for (artist, tracks) in query.all():\n",
    "    print(artist, tracks)"
   ]
  },
  {
   "cell_type": "markdown",
   "metadata": {},
   "source": [
    "# Behind The Scenes\n",
    "\n",
    "Here we will look more at how SQLAlchemy implements certain features behind the scenes.\n",
    "\n",
    "## Declarative Base\n",
    "\n",
    "How does SQLAlchemy keep track of which python classes are modules? Modules inherit from a declarative base. However, inheritance is a passive operation. It does not notify the parent class of the act of inheritance (not at definition time at least).\n",
    "\n",
    "The easy solution for this would be to require developers to manually register their modules, by calling some function. However, python provide a better automated solution via MetaClasses: [source](https://github.com/sqlalchemy/sqlalchemy/tree/master/lib/sqlalchemy/ext).\n",
    "\n",
    "## Meta Classes\n",
    "\n",
    "A Meta class, is a class whose instances are classes themselves. It is a class that gives classes instead of objects.\n",
    "\n",
    "A meta class can be written in python by inheriting from type."
   ]
  },
  {
   "cell_type": "code",
   "execution_count": 56,
   "metadata": {},
   "outputs": [
    {
     "name": "stdout",
     "output_type": "stream",
     "text": [
      "register MyClass (<class 'object'>,) dict_keys(['func', '__qualname__', 'attr', '__module__'])\n",
      "register MyClass2 (<class '__main__.MyClass'>,) dict_keys(['__qualname__', '__module__', 'attr2'])\n"
     ]
    }
   ],
   "source": [
    "class RegisteringMetaClass(type):\n",
    "    def __init__(cls, clsname, bases, attrs):\n",
    "        print('register', clsname, bases, attrs.keys())\n",
    "        return super().__init__(clsname, bases, attrs)\n",
    "\n",
    "class MyClass(object, metaclass=RegisteringMetaClass):\n",
    "    attr = 'my attribute'\n",
    "    def func():\n",
    "        pass\n",
    "\n",
    "class MyClass2(MyClass):\n",
    "    attr2 = 'other attribute'\n",
    "\n",
    "class MyClass3():\n",
    "    pass"
   ]
  },
  {
   "cell_type": "markdown",
   "metadata": {},
   "source": [
    "The above example uses the metaclass=<metaclass> syntax, which is explicit but not regular. SQLAlchemy classes inherit from Base directly without refering to MetaClass. This can be achieved by ensuring that Base is a class defined with metaclass=<Metaclass>, or by getting an instance of the metaclass (whose instances are classes themselves), and using it as the parent class in inheritance."
   ]
  },
  {
   "cell_type": "code",
   "execution_count": 71,
   "metadata": {},
   "outputs": [
    {
     "name": "stdout",
     "output_type": "stream",
     "text": [
      "MetaClassInstance = <class '__main__.Base'>\n",
      "instrument ConcreteClass \n",
      "\n",
      "instrumented my_attr Test\n",
      "instrumented my_attr Test 2\n"
     ]
    }
   ],
   "source": [
    "def mygetattr(self, key, value):\n",
    "    print('instrumented', key, value)\n",
    "    super(self.__class__, self).__setattr__(key, value)\n",
    "\n",
    "class InstrumentingMetaClass(type):\n",
    "    def __new__(cls, clsname, bases, attrs):\n",
    "        if clsname != 'Base':\n",
    "            print('instrument', clsname, '\\n')\n",
    "            attrs['__setattr__'] = mygetattr\n",
    "        return super().__new__(cls, clsname, bases, attrs)\n",
    "\n",
    "MetaClassInstance = InstrumentingMetaClass('Base', (object,), {})\n",
    "print('MetaClassInstance =', MetaClassInstance)\n",
    "\n",
    "class ConcreteClass(MetaClassInstance):\n",
    "    def __init__(self):\n",
    "        self.my_attr = 'Test'\n",
    "\n",
    "instance = ConcreteClass()\n",
    "instance.my_attr = 'Test 2'"
   ]
  },
  {
   "cell_type": "markdown",
   "metadata": {},
   "source": [
    "## Query Implementation\n",
    "\n",
    "Sources: [Query](https://github.com/zzzeek/sqlalchemy/blob/master/lib/sqlalchemy/orm/query.py)."
   ]
  },
  {
   "cell_type": "code",
   "execution_count": 81,
   "metadata": {},
   "outputs": [
    {
     "name": "stdout",
     "output_type": "stream",
     "text": [
      "type(query) = <class 'sqlalchemy.orm.query.Query'>\n",
      "query =  SELECT artists.id AS artists_id, artists.name AS artists_name, artists.year AS artists_year \n",
      "FROM artists\n",
      "\n",
      "artists.year > :year_1\n",
      "<class 'sqlalchemy.sql.elements.BinaryExpression'>\n",
      "\n",
      "artists.year <= :year_1\n",
      "<class 'sqlalchemy.sql.elements.BinaryExpression'>\n",
      "\n",
      "artists.year > :year_1 AND artists.year <= :year_2\n",
      "<class 'sqlalchemy.sql.elements.BooleanClauseList'>\n",
      "<function and_ at 0x7f34e41b8598>\n",
      "\n",
      "SELECT artists.id AS artists_id, artists.name AS artists_name, artists.year AS artists_year \n",
      "FROM artists \n",
      "WHERE artists.year > ? AND artists.year <= ?\n",
      "\n",
      "2019-11-14 09:19:35,506 INFO sqlalchemy.engine.base.Engine SELECT artists.id AS artists_id, artists.name AS artists_name, artists.year AS artists_year \n",
      "FROM artists \n",
      "WHERE artists.year > ? AND artists.year <= ?\n",
      "2019-11-14 09:19:35,508 INFO sqlalchemy.engine.base.Engine (1980, 1990)\n",
      "[<Artist(id=3, name='Metallica', year=1981>, <Artist(id=4, name='Slayer', year=1981>, <Artist(id=5, name='Pantera', year=1981>]\n"
     ]
    }
   ],
   "source": [
    "from sqlalchemy import and_\n",
    "\n",
    "query = session.query(Artist)\n",
    "print('type(query) =', type(query))\n",
    "print('query = ', query)\n",
    "\n",
    "condition1 = Artist.year > 1980\n",
    "condition2 = Artist.year <= 1990\n",
    "condition3 = and_(condition1, condition2)\n",
    "\n",
    "print('')\n",
    "print(condition1)\n",
    "print(type(condition1))\n",
    "\n",
    "print('')\n",
    "print(condition2)\n",
    "print(type(condition2))\n",
    "\n",
    "print('')\n",
    "print(condition3)\n",
    "print(type(condition3))\n",
    "print(and_)\n",
    "\n",
    "print('')\n",
    "query = query.filter(condition3)\n",
    "print(query)\n",
    "\n",
    "print('')\n",
    "print(query.all())"
   ]
  }
 ],
 "metadata": {
  "kernelspec": {
   "display_name": "Python 3",
   "language": "python",
   "name": "python3"
  },
  "language_info": {
   "codemirror_mode": {
    "name": "ipython",
    "version": 3
   },
   "file_extension": ".py",
   "mimetype": "text/x-python",
   "name": "python",
   "nbconvert_exporter": "python",
   "pygments_lexer": "ipython3",
   "version": "3.5.2"
  }
 },
 "nbformat": 4,
 "nbformat_minor": 2
}
